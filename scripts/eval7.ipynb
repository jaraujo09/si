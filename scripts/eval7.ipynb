{
 "cells": [
  {
   "cell_type": "markdown",
   "metadata": {},
   "source": [
    "### Avaliação Aula 7 - Voting Classifier"
   ]
  },
  {
   "cell_type": "code",
   "execution_count": 3,
   "metadata": {},
   "outputs": [],
   "source": [
    "from si.io.csv_file import read_csv\n",
    "from si.model_selection.split import train_test_split\n",
    "from si.models.knn_classifier import KNNClassifier\n",
    "from si.models.logistic_regression import LogisticRegression\n",
    "from si.models.decision_tree_classifier import DecisionTreeClassifier\n",
    "from si.ensemble.voting_classifier import VotingClassifier"
   ]
  },
  {
   "cell_type": "code",
   "execution_count": 7,
   "metadata": {},
   "outputs": [],
   "source": [
    "filename = r'C:\\Users\\Fofinha\\Desktop\\UNI\\MESTRADO\\2o ANO\\Sistemas Inteligentes\\si\\datasets\\breast_bin\\breast-bin.csv'"
   ]
  },
  {
   "cell_type": "code",
   "execution_count": 8,
   "metadata": {},
   "outputs": [],
   "source": [
    "breast_bin = read_csv(filename, features=False, label=True)"
   ]
  },
  {
   "cell_type": "code",
   "execution_count": 10,
   "metadata": {},
   "outputs": [],
   "source": [
    "train_dataset, test_dataset = train_test_split(breast_bin, test_size=0.2, random_state=0)"
   ]
  },
  {
   "cell_type": "code",
   "execution_count": 11,
   "metadata": {},
   "outputs": [],
   "source": [
    "knn_model = KNNClassifier(k=3)\n",
    "\n",
    "logistic_model = LogisticRegression()\n",
    "\n",
    "dt_model = DecisionTreeClassifier()"
   ]
  },
  {
   "cell_type": "code",
   "execution_count": 13,
   "metadata": {},
   "outputs": [
    {
     "data": {
      "text/plain": [
       "<si.ensemble.voting_classifier.VotingClassifier at 0x1c64a593490>"
      ]
     },
     "execution_count": 13,
     "metadata": {},
     "output_type": "execute_result"
    }
   ],
   "source": [
    "#voting classifier\n",
    "voting = VotingClassifier([knn_model, logistic_model, dt_model])\n",
    "\n",
    "voting.fit(train_dataset)"
   ]
  },
  {
   "cell_type": "code",
   "execution_count": 14,
   "metadata": {},
   "outputs": [
    {
     "ename": "AttributeError",
     "evalue": "'NoneType' object has no attribute 'X'",
     "output_type": "error",
     "traceback": [
      "\u001b[1;31m---------------------------------------------------------------------------\u001b[0m",
      "\u001b[1;31mAttributeError\u001b[0m                            Traceback (most recent call last)",
      "\u001b[1;32mc:\\Users\\Fofinha\\Desktop\\UNI\\MESTRADO\\2o ANO\\Sistemas Inteligentes\\si\\scripts\\eval7.ipynb Cell 8\u001b[0m line \u001b[0;36m1\n\u001b[1;32m----> <a href='vscode-notebook-cell:/c%3A/Users/Fofinha/Desktop/UNI/MESTRADO/2o%20ANO/Sistemas%20Inteligentes/si/scripts/eval7.ipynb#X11sZmlsZQ%3D%3D?line=0'>1</a>\u001b[0m voting\u001b[39m.\u001b[39;49mpredict(test_dataset)\n",
      "File \u001b[1;32mc:\\Users\\Fofinha\\anaconda3\\Lib\\site-packages\\si-0.0.1-py3.11.egg\\si\\ensemble\\voting_classifier.py:85\u001b[0m, in \u001b[0;36mVotingClassifier.predict\u001b[1;34m(self, dataset)\u001b[0m\n\u001b[0;32m     82\u001b[0m     labels, counts \u001b[39m=\u001b[39m np\u001b[39m.\u001b[39munique(pred, return_counts\u001b[39m=\u001b[39m\u001b[39mTrue\u001b[39;00m)\n\u001b[0;32m     83\u001b[0m     \u001b[39mreturn\u001b[39;00m labels[np\u001b[39m.\u001b[39margmax(counts)]\n\u001b[1;32m---> 85\u001b[0m predictions \u001b[39m=\u001b[39m np\u001b[39m.\u001b[39marray([model\u001b[39m.\u001b[39;49mpredict(dataset) \u001b[39mfor\u001b[39;49;00m model \u001b[39min\u001b[39;49;00m \u001b[39mself\u001b[39;49m\u001b[39m.\u001b[39;49mmodels])\u001b[39m.\u001b[39mtranspose()\n\u001b[0;32m     86\u001b[0m \u001b[39mreturn\u001b[39;00m np\u001b[39m.\u001b[39mapply_along_axis(_get_majority_vote, axis\u001b[39m=\u001b[39m\u001b[39m1\u001b[39m, arr\u001b[39m=\u001b[39mpredictions)\n",
      "File \u001b[1;32mc:\\Users\\Fofinha\\anaconda3\\Lib\\site-packages\\si-0.0.1-py3.11.egg\\si\\ensemble\\voting_classifier.py:85\u001b[0m, in \u001b[0;36m<listcomp>\u001b[1;34m(.0)\u001b[0m\n\u001b[0;32m     82\u001b[0m     labels, counts \u001b[39m=\u001b[39m np\u001b[39m.\u001b[39munique(pred, return_counts\u001b[39m=\u001b[39m\u001b[39mTrue\u001b[39;00m)\n\u001b[0;32m     83\u001b[0m     \u001b[39mreturn\u001b[39;00m labels[np\u001b[39m.\u001b[39margmax(counts)]\n\u001b[1;32m---> 85\u001b[0m predictions \u001b[39m=\u001b[39m np\u001b[39m.\u001b[39marray([model\u001b[39m.\u001b[39;49mpredict(dataset) \u001b[39mfor\u001b[39;00m model \u001b[39min\u001b[39;00m \u001b[39mself\u001b[39m\u001b[39m.\u001b[39mmodels])\u001b[39m.\u001b[39mtranspose()\n\u001b[0;32m     86\u001b[0m \u001b[39mreturn\u001b[39;00m np\u001b[39m.\u001b[39mapply_along_axis(_get_majority_vote, axis\u001b[39m=\u001b[39m\u001b[39m1\u001b[39m, arr\u001b[39m=\u001b[39mpredictions)\n",
      "File \u001b[1;32mc:\\Users\\Fofinha\\anaconda3\\Lib\\site-packages\\si-0.0.1-py3.11.egg\\si\\models\\knn_classifier.py:105\u001b[0m, in \u001b[0;36mKNNClassifier.predict\u001b[1;34m(self, dataset)\u001b[0m\n\u001b[0;32m     91\u001b[0m \u001b[39mdef\u001b[39;00m \u001b[39mpredict\u001b[39m(\u001b[39mself\u001b[39m, dataset: Dataset) \u001b[39m-\u001b[39m\u001b[39m>\u001b[39m np\u001b[39m.\u001b[39mndarray:\n\u001b[0;32m     92\u001b[0m \u001b[39m    \u001b[39m\u001b[39m\"\"\"\u001b[39;00m\n\u001b[0;32m     93\u001b[0m \u001b[39m    It predicts the classes of the given dataset\u001b[39;00m\n\u001b[0;32m     94\u001b[0m \n\u001b[1;32m   (...)\u001b[0m\n\u001b[0;32m    103\u001b[0m \u001b[39m        The predictions of the model\u001b[39;00m\n\u001b[0;32m    104\u001b[0m \u001b[39m    \"\"\"\u001b[39;00m\n\u001b[1;32m--> 105\u001b[0m     \u001b[39mreturn\u001b[39;00m np\u001b[39m.\u001b[39;49mapply_along_axis(\u001b[39mself\u001b[39;49m\u001b[39m.\u001b[39;49m_get_closest_label, axis\u001b[39m=\u001b[39;49m\u001b[39m1\u001b[39;49m, arr\u001b[39m=\u001b[39;49mdataset\u001b[39m.\u001b[39;49mX)\n",
      "File \u001b[1;32m<__array_function__ internals>:200\u001b[0m, in \u001b[0;36mapply_along_axis\u001b[1;34m(*args, **kwargs)\u001b[0m\n",
      "File \u001b[1;32mc:\\Users\\Fofinha\\anaconda3\\Lib\\site-packages\\numpy\\lib\\shape_base.py:379\u001b[0m, in \u001b[0;36mapply_along_axis\u001b[1;34m(func1d, axis, arr, *args, **kwargs)\u001b[0m\n\u001b[0;32m    375\u001b[0m \u001b[39mexcept\u001b[39;00m \u001b[39mStopIteration\u001b[39;00m \u001b[39mas\u001b[39;00m e:\n\u001b[0;32m    376\u001b[0m     \u001b[39mraise\u001b[39;00m \u001b[39mValueError\u001b[39;00m(\n\u001b[0;32m    377\u001b[0m         \u001b[39m'\u001b[39m\u001b[39mCannot apply_along_axis when any iteration dimensions are 0\u001b[39m\u001b[39m'\u001b[39m\n\u001b[0;32m    378\u001b[0m     ) \u001b[39mfrom\u001b[39;00m \u001b[39mNone\u001b[39;00m\n\u001b[1;32m--> 379\u001b[0m res \u001b[39m=\u001b[39m asanyarray(func1d(inarr_view[ind0], \u001b[39m*\u001b[39;49margs, \u001b[39m*\u001b[39;49m\u001b[39m*\u001b[39;49mkwargs))\n\u001b[0;32m    381\u001b[0m \u001b[39m# build a buffer for storing evaluations of func1d.\u001b[39;00m\n\u001b[0;32m    382\u001b[0m \u001b[39m# remove the requested axis, and add the new ones on the end.\u001b[39;00m\n\u001b[0;32m    383\u001b[0m \u001b[39m# laid out so that each write is contiguous.\u001b[39;00m\n\u001b[0;32m    384\u001b[0m \u001b[39m# for a tuple index inds, buff[inds] = func1d(inarr_view[inds])\u001b[39;00m\n\u001b[0;32m    385\u001b[0m buff \u001b[39m=\u001b[39m zeros(inarr_view\u001b[39m.\u001b[39mshape[:\u001b[39m-\u001b[39m\u001b[39m1\u001b[39m] \u001b[39m+\u001b[39m res\u001b[39m.\u001b[39mshape, res\u001b[39m.\u001b[39mdtype)\n",
      "File \u001b[1;32mc:\\Users\\Fofinha\\anaconda3\\Lib\\site-packages\\si-0.0.1-py3.11.egg\\si\\models\\knn_classifier.py:79\u001b[0m, in \u001b[0;36mKNNClassifier._get_closest_label\u001b[1;34m(self, sample)\u001b[0m\n\u001b[0;32m     65\u001b[0m \u001b[39m\u001b[39m\u001b[39m\"\"\"\u001b[39;00m\n\u001b[0;32m     66\u001b[0m \u001b[39mIt returns the closest label of the given sample\u001b[39;00m\n\u001b[0;32m     67\u001b[0m \n\u001b[1;32m   (...)\u001b[0m\n\u001b[0;32m     76\u001b[0m \u001b[39m    The closest label\u001b[39;00m\n\u001b[0;32m     77\u001b[0m \u001b[39m\"\"\"\u001b[39;00m\n\u001b[0;32m     78\u001b[0m \u001b[39m# compute the distance between the sample and the dataset\u001b[39;00m\n\u001b[1;32m---> 79\u001b[0m distances \u001b[39m=\u001b[39m \u001b[39mself\u001b[39m\u001b[39m.\u001b[39mdistance(sample, \u001b[39mself\u001b[39;49m\u001b[39m.\u001b[39;49mtrain_dataset\u001b[39m.\u001b[39;49mX)\n\u001b[0;32m     81\u001b[0m \u001b[39m# get the k nearest neighbors\u001b[39;00m\n\u001b[0;32m     82\u001b[0m k_nearest_neighbors \u001b[39m=\u001b[39m np\u001b[39m.\u001b[39margsort(distances)[:\u001b[39mself\u001b[39m\u001b[39m.\u001b[39mk]\n",
      "\u001b[1;31mAttributeError\u001b[0m: 'NoneType' object has no attribute 'X'"
     ]
    }
   ],
   "source": [
    "voting.predict(test_dataset)"
   ]
  },
  {
   "cell_type": "code",
   "execution_count": 15,
   "metadata": {},
   "outputs": [
    {
     "ename": "AttributeError",
     "evalue": "'NoneType' object has no attribute 'X'",
     "output_type": "error",
     "traceback": [
      "\u001b[1;31m---------------------------------------------------------------------------\u001b[0m",
      "\u001b[1;31mAttributeError\u001b[0m                            Traceback (most recent call last)",
      "\u001b[1;32mc:\\Users\\Fofinha\\Desktop\\UNI\\MESTRADO\\2o ANO\\Sistemas Inteligentes\\si\\scripts\\eval7.ipynb Cell 9\u001b[0m line \u001b[0;36m1\n\u001b[1;32m----> <a href='vscode-notebook-cell:/c%3A/Users/Fofinha/Desktop/UNI/MESTRADO/2o%20ANO/Sistemas%20Inteligentes/si/scripts/eval7.ipynb#X12sZmlsZQ%3D%3D?line=0'>1</a>\u001b[0m voting\u001b[39m.\u001b[39;49mscore(test_dataset)\n",
      "File \u001b[1;32mc:\\Users\\Fofinha\\anaconda3\\Lib\\site-packages\\si-0.0.1-py3.11.egg\\si\\ensemble\\voting_classifier.py:102\u001b[0m, in \u001b[0;36mVotingClassifier.score\u001b[1;34m(self, dataset)\u001b[0m\n\u001b[0;32m     88\u001b[0m \u001b[39mdef\u001b[39;00m \u001b[39mscore\u001b[39m(\u001b[39mself\u001b[39m, dataset: Dataset) \u001b[39m-\u001b[39m\u001b[39m>\u001b[39m \u001b[39mfloat\u001b[39m:\n\u001b[0;32m     89\u001b[0m \u001b[39m    \u001b[39m\u001b[39m\"\"\"\u001b[39;00m\n\u001b[0;32m     90\u001b[0m \u001b[39m    Returns the mean accuracy on the given test data and labels.\u001b[39;00m\n\u001b[0;32m     91\u001b[0m \n\u001b[1;32m   (...)\u001b[0m\n\u001b[0;32m    100\u001b[0m \u001b[39m        Mean accuracy\u001b[39;00m\n\u001b[0;32m    101\u001b[0m \u001b[39m    \"\"\"\u001b[39;00m\n\u001b[1;32m--> 102\u001b[0m     \u001b[39mreturn\u001b[39;00m accuracy(dataset\u001b[39m.\u001b[39my, \u001b[39mself\u001b[39;49m\u001b[39m.\u001b[39;49mpredict(dataset))\n",
      "File \u001b[1;32mc:\\Users\\Fofinha\\anaconda3\\Lib\\site-packages\\si-0.0.1-py3.11.egg\\si\\ensemble\\voting_classifier.py:85\u001b[0m, in \u001b[0;36mVotingClassifier.predict\u001b[1;34m(self, dataset)\u001b[0m\n\u001b[0;32m     82\u001b[0m     labels, counts \u001b[39m=\u001b[39m np\u001b[39m.\u001b[39munique(pred, return_counts\u001b[39m=\u001b[39m\u001b[39mTrue\u001b[39;00m)\n\u001b[0;32m     83\u001b[0m     \u001b[39mreturn\u001b[39;00m labels[np\u001b[39m.\u001b[39margmax(counts)]\n\u001b[1;32m---> 85\u001b[0m predictions \u001b[39m=\u001b[39m np\u001b[39m.\u001b[39marray([model\u001b[39m.\u001b[39;49mpredict(dataset) \u001b[39mfor\u001b[39;49;00m model \u001b[39min\u001b[39;49;00m \u001b[39mself\u001b[39;49m\u001b[39m.\u001b[39;49mmodels])\u001b[39m.\u001b[39mtranspose()\n\u001b[0;32m     86\u001b[0m \u001b[39mreturn\u001b[39;00m np\u001b[39m.\u001b[39mapply_along_axis(_get_majority_vote, axis\u001b[39m=\u001b[39m\u001b[39m1\u001b[39m, arr\u001b[39m=\u001b[39mpredictions)\n",
      "File \u001b[1;32mc:\\Users\\Fofinha\\anaconda3\\Lib\\site-packages\\si-0.0.1-py3.11.egg\\si\\ensemble\\voting_classifier.py:85\u001b[0m, in \u001b[0;36m<listcomp>\u001b[1;34m(.0)\u001b[0m\n\u001b[0;32m     82\u001b[0m     labels, counts \u001b[39m=\u001b[39m np\u001b[39m.\u001b[39munique(pred, return_counts\u001b[39m=\u001b[39m\u001b[39mTrue\u001b[39;00m)\n\u001b[0;32m     83\u001b[0m     \u001b[39mreturn\u001b[39;00m labels[np\u001b[39m.\u001b[39margmax(counts)]\n\u001b[1;32m---> 85\u001b[0m predictions \u001b[39m=\u001b[39m np\u001b[39m.\u001b[39marray([model\u001b[39m.\u001b[39;49mpredict(dataset) \u001b[39mfor\u001b[39;00m model \u001b[39min\u001b[39;00m \u001b[39mself\u001b[39m\u001b[39m.\u001b[39mmodels])\u001b[39m.\u001b[39mtranspose()\n\u001b[0;32m     86\u001b[0m \u001b[39mreturn\u001b[39;00m np\u001b[39m.\u001b[39mapply_along_axis(_get_majority_vote, axis\u001b[39m=\u001b[39m\u001b[39m1\u001b[39m, arr\u001b[39m=\u001b[39mpredictions)\n",
      "File \u001b[1;32mc:\\Users\\Fofinha\\anaconda3\\Lib\\site-packages\\si-0.0.1-py3.11.egg\\si\\models\\knn_classifier.py:105\u001b[0m, in \u001b[0;36mKNNClassifier.predict\u001b[1;34m(self, dataset)\u001b[0m\n\u001b[0;32m     91\u001b[0m \u001b[39mdef\u001b[39;00m \u001b[39mpredict\u001b[39m(\u001b[39mself\u001b[39m, dataset: Dataset) \u001b[39m-\u001b[39m\u001b[39m>\u001b[39m np\u001b[39m.\u001b[39mndarray:\n\u001b[0;32m     92\u001b[0m \u001b[39m    \u001b[39m\u001b[39m\"\"\"\u001b[39;00m\n\u001b[0;32m     93\u001b[0m \u001b[39m    It predicts the classes of the given dataset\u001b[39;00m\n\u001b[0;32m     94\u001b[0m \n\u001b[1;32m   (...)\u001b[0m\n\u001b[0;32m    103\u001b[0m \u001b[39m        The predictions of the model\u001b[39;00m\n\u001b[0;32m    104\u001b[0m \u001b[39m    \"\"\"\u001b[39;00m\n\u001b[1;32m--> 105\u001b[0m     \u001b[39mreturn\u001b[39;00m np\u001b[39m.\u001b[39;49mapply_along_axis(\u001b[39mself\u001b[39;49m\u001b[39m.\u001b[39;49m_get_closest_label, axis\u001b[39m=\u001b[39;49m\u001b[39m1\u001b[39;49m, arr\u001b[39m=\u001b[39;49mdataset\u001b[39m.\u001b[39;49mX)\n",
      "File \u001b[1;32m<__array_function__ internals>:200\u001b[0m, in \u001b[0;36mapply_along_axis\u001b[1;34m(*args, **kwargs)\u001b[0m\n",
      "File \u001b[1;32mc:\\Users\\Fofinha\\anaconda3\\Lib\\site-packages\\numpy\\lib\\shape_base.py:379\u001b[0m, in \u001b[0;36mapply_along_axis\u001b[1;34m(func1d, axis, arr, *args, **kwargs)\u001b[0m\n\u001b[0;32m    375\u001b[0m \u001b[39mexcept\u001b[39;00m \u001b[39mStopIteration\u001b[39;00m \u001b[39mas\u001b[39;00m e:\n\u001b[0;32m    376\u001b[0m     \u001b[39mraise\u001b[39;00m \u001b[39mValueError\u001b[39;00m(\n\u001b[0;32m    377\u001b[0m         \u001b[39m'\u001b[39m\u001b[39mCannot apply_along_axis when any iteration dimensions are 0\u001b[39m\u001b[39m'\u001b[39m\n\u001b[0;32m    378\u001b[0m     ) \u001b[39mfrom\u001b[39;00m \u001b[39mNone\u001b[39;00m\n\u001b[1;32m--> 379\u001b[0m res \u001b[39m=\u001b[39m asanyarray(func1d(inarr_view[ind0], \u001b[39m*\u001b[39;49margs, \u001b[39m*\u001b[39;49m\u001b[39m*\u001b[39;49mkwargs))\n\u001b[0;32m    381\u001b[0m \u001b[39m# build a buffer for storing evaluations of func1d.\u001b[39;00m\n\u001b[0;32m    382\u001b[0m \u001b[39m# remove the requested axis, and add the new ones on the end.\u001b[39;00m\n\u001b[0;32m    383\u001b[0m \u001b[39m# laid out so that each write is contiguous.\u001b[39;00m\n\u001b[0;32m    384\u001b[0m \u001b[39m# for a tuple index inds, buff[inds] = func1d(inarr_view[inds])\u001b[39;00m\n\u001b[0;32m    385\u001b[0m buff \u001b[39m=\u001b[39m zeros(inarr_view\u001b[39m.\u001b[39mshape[:\u001b[39m-\u001b[39m\u001b[39m1\u001b[39m] \u001b[39m+\u001b[39m res\u001b[39m.\u001b[39mshape, res\u001b[39m.\u001b[39mdtype)\n",
      "File \u001b[1;32mc:\\Users\\Fofinha\\anaconda3\\Lib\\site-packages\\si-0.0.1-py3.11.egg\\si\\models\\knn_classifier.py:79\u001b[0m, in \u001b[0;36mKNNClassifier._get_closest_label\u001b[1;34m(self, sample)\u001b[0m\n\u001b[0;32m     65\u001b[0m \u001b[39m\u001b[39m\u001b[39m\"\"\"\u001b[39;00m\n\u001b[0;32m     66\u001b[0m \u001b[39mIt returns the closest label of the given sample\u001b[39;00m\n\u001b[0;32m     67\u001b[0m \n\u001b[1;32m   (...)\u001b[0m\n\u001b[0;32m     76\u001b[0m \u001b[39m    The closest label\u001b[39;00m\n\u001b[0;32m     77\u001b[0m \u001b[39m\"\"\"\u001b[39;00m\n\u001b[0;32m     78\u001b[0m \u001b[39m# compute the distance between the sample and the dataset\u001b[39;00m\n\u001b[1;32m---> 79\u001b[0m distances \u001b[39m=\u001b[39m \u001b[39mself\u001b[39m\u001b[39m.\u001b[39mdistance(sample, \u001b[39mself\u001b[39;49m\u001b[39m.\u001b[39;49mtrain_dataset\u001b[39m.\u001b[39;49mX)\n\u001b[0;32m     81\u001b[0m \u001b[39m# get the k nearest neighbors\u001b[39;00m\n\u001b[0;32m     82\u001b[0m k_nearest_neighbors \u001b[39m=\u001b[39m np\u001b[39m.\u001b[39margsort(distances)[:\u001b[39mself\u001b[39m\u001b[39m.\u001b[39mk]\n",
      "\u001b[1;31mAttributeError\u001b[0m: 'NoneType' object has no attribute 'X'"
     ]
    }
   ],
   "source": [
    "voting.score(test_dataset)"
   ]
  }
 ],
 "metadata": {
  "kernelspec": {
   "display_name": "base",
   "language": "python",
   "name": "python3"
  },
  "language_info": {
   "codemirror_mode": {
    "name": "ipython",
    "version": 3
   },
   "file_extension": ".py",
   "mimetype": "text/x-python",
   "name": "python",
   "nbconvert_exporter": "python",
   "pygments_lexer": "ipython3",
   "version": "3.11.4"
  }
 },
 "nbformat": 4,
 "nbformat_minor": 2
}
