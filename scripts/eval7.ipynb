{
 "cells": [
  {
   "cell_type": "markdown",
   "metadata": {},
   "source": [
    "### Avaliação Aula 7 - Voting Classifier"
   ]
  },
  {
   "cell_type": "code",
   "execution_count": 5,
   "metadata": {},
   "outputs": [],
   "source": [
    "from si.io.csv_file import read_csv\n",
    "from si.model_selection.split import train_test_split\n",
    "from si.models.knn_classifier import KNNClassifier\n",
    "from si.models.logistic_regression import LogisticRegression\n",
    "from si.models.decision_tree_classifier import DecisionTreeClassifier\n",
    "from si.ensemble.voting_classifier import VotingClassifier\n",
    "from si.model_selection.cross_validation import k_fold_cross_validation\n",
    "from si.model_selection.grid_search import grid_search_cv\n",
    "from si.model_selection.randomized_search_cv import randomized_search_cv\n",
    "import numpy as np"
   ]
  },
  {
   "cell_type": "code",
   "execution_count": 3,
   "metadata": {},
   "outputs": [],
   "source": [
    "filename = r'C:\\Users\\Fofinha\\Desktop\\UNI\\MESTRADO\\2o ANO\\Sistemas Inteligentes\\si\\datasets\\breast_bin\\breast-bin.csv'"
   ]
  },
  {
   "cell_type": "code",
   "execution_count": 4,
   "metadata": {},
   "outputs": [],
   "source": [
    "breast_bin = read_csv(filename, features=False, label=True)"
   ]
  },
  {
   "cell_type": "code",
   "execution_count": 4,
   "metadata": {},
   "outputs": [],
   "source": [
    "train_dataset, test_dataset = train_test_split(breast_bin, test_size=0.2, random_state=0)"
   ]
  },
  {
   "cell_type": "code",
   "execution_count": 5,
   "metadata": {},
   "outputs": [],
   "source": [
    "knn_model = KNNClassifier(k=3)\n",
    "\n",
    "logistic_model = LogisticRegression()\n",
    "\n",
    "dt_model = DecisionTreeClassifier()"
   ]
  },
  {
   "cell_type": "code",
   "execution_count": 6,
   "metadata": {},
   "outputs": [
    {
     "data": {
      "text/plain": [
       "<si.ensemble.voting_classifier.VotingClassifier at 0x21f0f28d1d0>"
      ]
     },
     "execution_count": 6,
     "metadata": {},
     "output_type": "execute_result"
    }
   ],
   "source": [
    "#voting classifier\n",
    "voting = VotingClassifier([knn_model, logistic_model, dt_model])\n",
    "\n",
    "voting.fit(train_dataset)"
   ]
  },
  {
   "cell_type": "code",
   "execution_count": 7,
   "metadata": {},
   "outputs": [
    {
     "data": {
      "text/plain": [
       "array([1., 1., 0., 0., 1., 0., 0., 0., 0., 0., 1., 0., 0., 1., 0., 0., 0.,\n",
       "       0., 0., 0., 0., 0., 1., 0., 0., 0., 1., 1., 0., 0., 0., 0., 1., 0.,\n",
       "       0., 0., 0., 0., 0., 1., 0., 0., 0., 0., 1., 0., 1., 1., 0., 0., 0.,\n",
       "       1., 0., 0., 1., 1., 1., 0., 0., 1., 0., 1., 1., 0., 0., 0., 0., 1.,\n",
       "       0., 0., 0., 0., 0., 0., 1., 0., 1., 0., 0., 0., 1., 1., 0., 0., 1.,\n",
       "       0., 1., 0., 0., 1., 1., 0., 1., 0., 1., 0., 0., 0., 0., 0., 0., 0.,\n",
       "       0., 1., 0., 0., 0., 0., 1., 0., 0., 1., 0., 1., 0., 0., 0., 0., 0.,\n",
       "       0., 1., 0., 1., 0., 0., 0., 0., 1., 1., 1., 0., 0., 0., 1., 1., 0.,\n",
       "       0., 0., 1.])"
      ]
     },
     "execution_count": 7,
     "metadata": {},
     "output_type": "execute_result"
    }
   ],
   "source": [
    "voting.predict(test_dataset)"
   ]
  },
  {
   "cell_type": "code",
   "execution_count": 8,
   "metadata": {},
   "outputs": [
    {
     "data": {
      "text/plain": [
       "0.9712230215827338"
      ]
     },
     "execution_count": 8,
     "metadata": {},
     "output_type": "execute_result"
    }
   ],
   "source": [
    "voting.score(test_dataset)"
   ]
  },
  {
   "cell_type": "markdown",
   "metadata": {},
   "source": [
    "### Avaliação Aula 7 - StackingClassifier"
   ]
  },
  {
   "cell_type": "code",
   "execution_count": 1,
   "metadata": {},
   "outputs": [],
   "source": [
    "from si.io.csv_file import read_csv\n",
    "from si.model_selection.split import stratified_train_test_split\n",
    "from si.models.knn_classifier import KNNClassifier\n",
    "from si.models.logistic_regression import LogisticRegression\n",
    "from si.models.decision_tree_classifier import DecisionTreeClassifier\n",
    "from si.ensemble.stacking_classifier import StackingClassifier\n"
   ]
  },
  {
   "cell_type": "code",
   "execution_count": 2,
   "metadata": {},
   "outputs": [],
   "source": [
    "filename_breast = r\"C:\\Users\\Fofinha\\Desktop\\UNI\\MESTRADO\\2o ANO\\Sistemas Inteligentes\\si\\datasets\\breast_bin\\breast-bin.csv\"\n",
    "breast=read_csv(filename_breast, sep=\",\",features=True,label=True)\n",
    "train_data, test_data = stratified_train_test_split(breast, test_size=0.20, random_state=42)\n"
   ]
  },
  {
   "cell_type": "code",
   "execution_count": 3,
   "metadata": {},
   "outputs": [
    {
     "name": "stdout",
     "output_type": "stream",
     "text": [
      "0.9784172661870504\n"
     ]
    }
   ],
   "source": [
    "#knnregressor\n",
    "knn = KNNClassifier(k=3)\n",
    "\n",
    "#logistic regression\n",
    "LG=LogisticRegression(l2_penalty=1, alpha=0.001, max_iter=1000)\n",
    "\n",
    "#decisiontreee\n",
    "DT=DecisionTreeClassifier(min_sample_split=3, max_depth=3, mode='gini')\n",
    "\n",
    "#final model\n",
    "final_modelo=knn\n",
    "modelos=[knn,LG,DT]\n",
    "exercise=StackingClassifier(modelos,final_modelo)\n",
    "exercise.fit(train_data)\n",
    "print(exercise.score(test_data))"
   ]
  },
  {
   "cell_type": "markdown",
   "metadata": {},
   "source": [
    "### Avaliação Cross Validation"
   ]
  },
  {
   "cell_type": "code",
   "execution_count": 7,
   "metadata": {},
   "outputs": [
    {
     "name": "stdout",
     "output_type": "stream",
     "text": [
      "[0.9424460431654677, 0.9712230215827338, 0.9928057553956835, 0.9640287769784173, 0.9712230215827338]\n",
      "Mean score: 0.9683453237410072 +/- 0.01615103907959975\n"
     ]
    }
   ],
   "source": [
    "model = LogisticRegression()\n",
    "\n",
    "# cross validate the model\n",
    "scores_ = k_fold_cross_validation(model, breast_bin, cv=5, seed=1)\n",
    "print(scores_)\n",
    "print(f'Mean score: {np.mean(scores_)} +/- {np.std(scores_)}')"
   ]
  },
  {
   "cell_type": "markdown",
   "metadata": {},
   "source": [
    "### Avaliação Grid Search"
   ]
  },
  {
   "cell_type": "code",
   "execution_count": 8,
   "metadata": {},
   "outputs": [
    {
     "name": "stdout",
     "output_type": "stream",
     "text": [
      "{'scores': [0.9669540229885056, 0.9669540229885057, 0.9669540229885057, 0.9698275862068965, 0.9669540229885057, 0.9683908045977012, 0.9669540229885056, 0.9669540229885057], 'hyperparameters': [{'l2_penalty': 1, 'alpha': 0.001, 'max_iter': 1000}, {'l2_penalty': 1, 'alpha': 0.001, 'max_iter': 2000}, {'l2_penalty': 1, 'alpha': 0.0001, 'max_iter': 1000}, {'l2_penalty': 1, 'alpha': 0.0001, 'max_iter': 2000}, {'l2_penalty': 10, 'alpha': 0.001, 'max_iter': 1000}, {'l2_penalty': 10, 'alpha': 0.001, 'max_iter': 2000}, {'l2_penalty': 10, 'alpha': 0.0001, 'max_iter': 1000}, {'l2_penalty': 10, 'alpha': 0.0001, 'max_iter': 2000}], 'best_hyperparameters': {'l2_penalty': 1, 'alpha': 0.0001, 'max_iter': 2000}, 'best_score': 0.9698275862068965}\n",
      "[0.9669540229885056, 0.9669540229885057, 0.9669540229885057, 0.9698275862068965, 0.9669540229885057, 0.9683908045977012, 0.9669540229885056, 0.9669540229885057]\n",
      "Best score: 0.9698275862068965\n"
     ]
    }
   ],
   "source": [
    "model = LogisticRegression()\n",
    "parameter_grid_ = {\n",
    "        'l2_penalty': (1, 10),\n",
    "        'alpha': (0.001, 0.0001),\n",
    "        'max_iter': (1000, 2000)\n",
    "    }\n",
    "results_ = grid_search_cv(model,\n",
    "                          breast_bin,\n",
    "                          hyperparameter_grid=parameter_grid_,\n",
    "                          cv=3)\n",
    "\n",
    "print(results_)\n",
    "#scores\n",
    "print(results_[\"scores\"])\n",
    "# get the best score\n",
    "best_score = results_['best_score']\n",
    "print(f\"Best score: {best_score}\")"
   ]
  },
  {
   "cell_type": "markdown",
   "metadata": {},
   "source": [
    "### Avaliação aula 7 - Randomized Search"
   ]
  },
  {
   "cell_type": "code",
   "execution_count": 9,
   "metadata": {},
   "outputs": [
    {
     "name": "stdout",
     "output_type": "stream",
     "text": [
      "{'scores': [0.9669540229885057, 0.9669540229885057, 0.9669540229885056, 0.9669540229885057, 0.9669540229885056, 0.9669540229885057, 0.9669540229885056, 0.9669540229885057, 0.9669540229885056, 0.9669540229885056, 0.9669540229885057, 0.9669540229885057, 0.9669540229885057, 0.9669540229885057, 0.9669540229885057, 0.9655172413793104, 0.9669540229885057, 0.9669540229885057, 0.9669540229885057, 0.9669540229885057, 0.9669540229885057, 0.9669540229885057, 0.9669540229885057, 0.9669540229885057, 0.9669540229885057, 0.9669540229885057, 0.9669540229885056, 0.9683908045977012, 0.9669540229885057, 0.9669540229885057, 0.9669540229885057, 0.9669540229885057, 0.9683908045977011, 0.9669540229885057, 0.9669540229885057, 0.9669540229885057, 0.9669540229885056, 0.9669540229885057, 0.9669540229885056, 0.9669540229885057, 0.9683908045977012, 0.9669540229885057, 0.9669540229885057, 0.9669540229885056, 0.9669540229885057, 0.9669540229885057, 0.9669540229885056, 0.9669540229885057, 0.9669540229885057, 0.9669540229885057, 0.9669540229885056, 0.9669540229885057, 0.9669540229885057, 0.9655172413793104, 0.9669540229885057, 0.9669540229885057, 0.9669540229885057, 0.9669540229885057, 0.9669540229885057, 0.9669540229885057, 0.9669540229885057, 0.9669540229885057, 0.9669540229885056, 0.9669540229885057, 0.9669540229885056, 0.9669540229885057, 0.9669540229885057, 0.9669540229885057, 0.9669540229885057, 0.9669540229885057, 0.9669540229885057, 0.9669540229885057, 0.9669540229885057, 0.9669540229885057, 0.9669540229885057, 0.9669540229885057, 0.9669540229885056, 0.9669540229885057, 0.9669540229885057, 0.9669540229885057, 0.9669540229885057, 0.9669540229885057, 0.9669540229885056, 0.9669540229885057, 0.9669540229885057, 0.9683908045977012, 0.9669540229885057, 0.964080459770115, 0.9669540229885057, 0.9669540229885057, 0.9669540229885057, 0.9669540229885057, 0.9655172413793104, 0.9669540229885057, 0.9669540229885057, 0.9669540229885057, 0.9669540229885057, 0.9669540229885057, 0.9669540229885057, 0.9683908045977011], 'hyperparameters': [{'l2_penalty': 6.0, 'alpha': 0.00039999999999999996, 'max_iter': 1854.2713567839196}, {'l2_penalty': 1.0, 'alpha': 0.00030909090909090914, 'max_iter': 1678.391959798995}, {'l2_penalty': 3.0, 'alpha': 0.0007363636363636363, 'max_iter': 1331.6582914572864}, {'l2_penalty': 9.0, 'alpha': 0.0005454545454545455, 'max_iter': 1974.8743718592966}, {'l2_penalty': 8.0, 'alpha': 0.000890909090909091, 'max_iter': 1040.2010050251256}, {'l2_penalty': 10.0, 'alpha': 0.0006272727272727273, 'max_iter': 1417.0854271356784}, {'l2_penalty': 2.0, 'alpha': 0.0008727272727272727, 'max_iter': 1165.8291457286432}, {'l2_penalty': 10.0, 'alpha': 0.0005272727272727274, 'max_iter': 1663.3165829145728}, {'l2_penalty': 7.0, 'alpha': 0.0009727272727272728, 'max_iter': 1035.175879396985}, {'l2_penalty': 3.0, 'alpha': 0.00039999999999999996, 'max_iter': 1391.9597989949748}, {'l2_penalty': 7.0, 'alpha': 0.0006181818181818182, 'max_iter': 1396.9849246231156}, {'l2_penalty': 1.0, 'alpha': 0.0005909090909090909, 'max_iter': 1562.8140703517588}, {'l2_penalty': 5.0, 'alpha': 0.00025454545454545456, 'max_iter': 1467.3366834170854}, {'l2_penalty': 5.0, 'alpha': 0.0008454545454545455, 'max_iter': 1311.5577889447236}, {'l2_penalty': 5.0, 'alpha': 0.00018181818181818186, 'max_iter': 1472.3618090452262}, {'l2_penalty': 2.0, 'alpha': 0.0009090909090909091, 'max_iter': 1010.0502512562814}, {'l2_penalty': 10.0, 'alpha': 0.0005727272727272727, 'max_iter': 1984.924623115578}, {'l2_penalty': 6.0, 'alpha': 0.0001363636363636364, 'max_iter': 1763.819095477387}, {'l2_penalty': 1.0, 'alpha': 0.00038181818181818184, 'max_iter': 1597.9899497487438}, {'l2_penalty': 5.0, 'alpha': 0.00032727272727272726, 'max_iter': 1417.0854271356784}, {'l2_penalty': 7.0, 'alpha': 0.0005363636363636364, 'max_iter': 1944.7236180904524}, {'l2_penalty': 1.0, 'alpha': 0.0005363636363636364, 'max_iter': 1256.281407035176}, {'l2_penalty': 1.0, 'alpha': 0.0006636363636363636, 'max_iter': 1788.9447236180904}, {'l2_penalty': 10.0, 'alpha': 0.00019090909090909087, 'max_iter': 1783.9195979899498}, {'l2_penalty': 2.0, 'alpha': 0.00038181818181818184, 'max_iter': 1537.6884422110552}, {'l2_penalty': 7.0, 'alpha': 0.00039090909090909096, 'max_iter': 1638.1909547738694}, {'l2_penalty': 1.0, 'alpha': 0.0009636363636363637, 'max_iter': 1266.3316582914572}, {'l2_penalty': 4.0, 'alpha': 0.0004727272727272728, 'max_iter': 1095.4773869346734}, {'l2_penalty': 5.0, 'alpha': 0.0001, 'max_iter': 1698.4924623115578}, {'l2_penalty': 1.0, 'alpha': 0.00030909090909090914, 'max_iter': 1768.8442211055276}, {'l2_penalty': 10.0, 'alpha': 0.0006000000000000001, 'max_iter': 1869.3467336683418}, {'l2_penalty': 1.0, 'alpha': 0.00012727272727272728, 'max_iter': 1648.2412060301508}, {'l2_penalty': 10.0, 'alpha': 0.0005454545454545455, 'max_iter': 1100.502512562814}, {'l2_penalty': 2.0, 'alpha': 0.0008636363636363636, 'max_iter': 1316.5829145728644}, {'l2_penalty': 1.0, 'alpha': 0.0001363636363636364, 'max_iter': 1452.2613065326634}, {'l2_penalty': 10.0, 'alpha': 0.0007545454545454546, 'max_iter': 1613.065326633166}, {'l2_penalty': 3.0, 'alpha': 0.00012727272727272728, 'max_iter': 1733.6683417085428}, {'l2_penalty': 8.0, 'alpha': 0.000890909090909091, 'max_iter': 1080.4020100502512}, {'l2_penalty': 1.0, 'alpha': 0.0007909090909090909, 'max_iter': 1351.7587939698492}, {'l2_penalty': 5.0, 'alpha': 0.0009363636363636364, 'max_iter': 1281.4070351758794}, {'l2_penalty': 4.0, 'alpha': 0.0003545454545454546, 'max_iter': 1854.2713567839196}, {'l2_penalty': 5.0, 'alpha': 0.0006727272727272728, 'max_iter': 1743.7185929648242}, {'l2_penalty': 10.0, 'alpha': 0.00023636363636363633, 'max_iter': 1165.8291457286432}, {'l2_penalty': 4.0, 'alpha': 0.0007818181818181818, 'max_iter': 1412.0603015075376}, {'l2_penalty': 2.0, 'alpha': 0.0007181818181818182, 'max_iter': 1728.643216080402}, {'l2_penalty': 9.0, 'alpha': 0.0001363636363636364, 'max_iter': 1713.56783919598}, {'l2_penalty': 8.0, 'alpha': 0.00019090909090909087, 'max_iter': 1296.4824120603016}, {'l2_penalty': 10.0, 'alpha': 0.0006181818181818182, 'max_iter': 1346.7336683417086}, {'l2_penalty': 4.0, 'alpha': 0.00022727272727272733, 'max_iter': 1733.6683417085428}, {'l2_penalty': 2.0, 'alpha': 0.0004181818181818182, 'max_iter': 1296.4824120603016}, {'l2_penalty': 5.0, 'alpha': 0.0006545454545454545, 'max_iter': 1005.0251256281407}, {'l2_penalty': 10.0, 'alpha': 0.00019999999999999998, 'max_iter': 1793.9698492462312}, {'l2_penalty': 9.0, 'alpha': 0.00019999999999999998, 'max_iter': 1618.0904522613066}, {'l2_penalty': 9.0, 'alpha': 0.0007545454545454546, 'max_iter': 1869.3467336683418}, {'l2_penalty': 1.0, 'alpha': 0.0007272727272727272, 'max_iter': 1989.9497487437188}, {'l2_penalty': 3.0, 'alpha': 0.0007090909090909091, 'max_iter': 1100.502512562814}, {'l2_penalty': 2.0, 'alpha': 0.00032727272727272726, 'max_iter': 1316.5829145728644}, {'l2_penalty': 10.0, 'alpha': 0.0009272727272727273, 'max_iter': 1557.788944723618}, {'l2_penalty': 1.0, 'alpha': 0.0007454545454545455, 'max_iter': 1517.5879396984924}, {'l2_penalty': 2.0, 'alpha': 0.0003363636363636364, 'max_iter': 1371.859296482412}, {'l2_penalty': 1.0, 'alpha': 0.00016363636363636363, 'max_iter': 1185.929648241206}, {'l2_penalty': 5.0, 'alpha': 0.0004909090909090909, 'max_iter': 1974.8743718592966}, {'l2_penalty': 2.0, 'alpha': 0.00045454545454545455, 'max_iter': 1211.0552763819096}, {'l2_penalty': 6.0, 'alpha': 0.0006272727272727273, 'max_iter': 1015.0753768844221}, {'l2_penalty': 6.0, 'alpha': 0.0002636363636363637, 'max_iter': 1718.5929648241208}, {'l2_penalty': 4.0, 'alpha': 0.0008363636363636364, 'max_iter': 1834.1708542713568}, {'l2_penalty': 8.0, 'alpha': 0.0009090909090909091, 'max_iter': 1517.5879396984924}, {'l2_penalty': 8.0, 'alpha': 0.00010909090909090905, 'max_iter': 1733.6683417085428}, {'l2_penalty': 8.0, 'alpha': 0.00039999999999999996, 'max_iter': 1834.1708542713568}, {'l2_penalty': 9.0, 'alpha': 0.0009636363636363637, 'max_iter': 1537.6884422110552}, {'l2_penalty': 7.0, 'alpha': 0.0006181818181818182, 'max_iter': 1547.7386934673368}, {'l2_penalty': 7.0, 'alpha': 0.0007727272727272728, 'max_iter': 1502.5125628140704}, {'l2_penalty': 4.0, 'alpha': 0.0003454545454545455, 'max_iter': 1160.8040201005026}, {'l2_penalty': 7.0, 'alpha': 0.0005636363636363636, 'max_iter': 1160.8040201005026}, {'l2_penalty': 6.0, 'alpha': 0.0009272727272727273, 'max_iter': 1537.6884422110552}, {'l2_penalty': 1.0, 'alpha': 0.00039999999999999996, 'max_iter': 1899.497487437186}, {'l2_penalty': 2.0, 'alpha': 0.0009272727272727273, 'max_iter': 1346.7336683417086}, {'l2_penalty': 2.0, 'alpha': 0.0009, 'max_iter': 1577.8894472361808}, {'l2_penalty': 5.0, 'alpha': 0.00015454545454545452, 'max_iter': 1954.7738693467336}, {'l2_penalty': 1.0, 'alpha': 0.00039999999999999996, 'max_iter': 1226.1306532663316}, {'l2_penalty': 10.0, 'alpha': 0.00016363636363636363, 'max_iter': 1809.0452261306532}, {'l2_penalty': 2.0, 'alpha': 0.0008181818181818182, 'max_iter': 1351.7587939698492}, {'l2_penalty': 6.0, 'alpha': 0.00037272727272727273, 'max_iter': 1331.6582914572864}, {'l2_penalty': 6.0, 'alpha': 0.00045454545454545455, 'max_iter': 1859.2964824120604}, {'l2_penalty': 2.0, 'alpha': 0.0005181818181818182, 'max_iter': 1809.0452261306532}, {'l2_penalty': 7.0, 'alpha': 0.0006000000000000001, 'max_iter': 1165.8291457286432}, {'l2_penalty': 7.0, 'alpha': 0.0006727272727272728, 'max_iter': 1291.4572864321608}, {'l2_penalty': 2.0, 'alpha': 0.00030909090909090914, 'max_iter': 1703.5175879396984}, {'l2_penalty': 7.0, 'alpha': 0.0006818181818181819, 'max_iter': 1979.8994974874372}, {'l2_penalty': 10.0, 'alpha': 0.0009818181818181818, 'max_iter': 1758.7939698492464}, {'l2_penalty': 8.0, 'alpha': 0.00017272727272727275, 'max_iter': 1884.422110552764}, {'l2_penalty': 10.0, 'alpha': 0.0007, 'max_iter': 1150.7537688442212}, {'l2_penalty': 6.0, 'alpha': 0.00045454545454545455, 'max_iter': 1100.502512562814}, {'l2_penalty': 4.0, 'alpha': 0.0005545454545454545, 'max_iter': 1326.6331658291458}, {'l2_penalty': 5.0, 'alpha': 0.0002636363636363637, 'max_iter': 1140.7035175879396}, {'l2_penalty': 3.0, 'alpha': 0.0006545454545454545, 'max_iter': 1497.4874371859296}, {'l2_penalty': 9.0, 'alpha': 0.00038181818181818184, 'max_iter': 1291.4572864321608}, {'l2_penalty': 6.0, 'alpha': 0.0002818181818181818, 'max_iter': 1412.0603015075376}, {'l2_penalty': 1.0, 'alpha': 0.00030000000000000003, 'max_iter': 1361.8090452261308}, {'l2_penalty': 1.0, 'alpha': 0.0002818181818181818, 'max_iter': 1964.8241206030152}], 'best_hyperparameters': {'l2_penalty': 4.0, 'alpha': 0.0004727272727272728, 'max_iter': 1095.4773869346734}, 'best_score': 0.9683908045977012}\n",
      "[0.9669540229885057, 0.9669540229885057, 0.9669540229885056, 0.9669540229885057, 0.9669540229885056, 0.9669540229885057, 0.9669540229885056, 0.9669540229885057, 0.9669540229885056, 0.9669540229885056, 0.9669540229885057, 0.9669540229885057, 0.9669540229885057, 0.9669540229885057, 0.9669540229885057, 0.9655172413793104, 0.9669540229885057, 0.9669540229885057, 0.9669540229885057, 0.9669540229885057, 0.9669540229885057, 0.9669540229885057, 0.9669540229885057, 0.9669540229885057, 0.9669540229885057, 0.9669540229885057, 0.9669540229885056, 0.9683908045977012, 0.9669540229885057, 0.9669540229885057, 0.9669540229885057, 0.9669540229885057, 0.9683908045977011, 0.9669540229885057, 0.9669540229885057, 0.9669540229885057, 0.9669540229885056, 0.9669540229885057, 0.9669540229885056, 0.9669540229885057, 0.9683908045977012, 0.9669540229885057, 0.9669540229885057, 0.9669540229885056, 0.9669540229885057, 0.9669540229885057, 0.9669540229885056, 0.9669540229885057, 0.9669540229885057, 0.9669540229885057, 0.9669540229885056, 0.9669540229885057, 0.9669540229885057, 0.9655172413793104, 0.9669540229885057, 0.9669540229885057, 0.9669540229885057, 0.9669540229885057, 0.9669540229885057, 0.9669540229885057, 0.9669540229885057, 0.9669540229885057, 0.9669540229885056, 0.9669540229885057, 0.9669540229885056, 0.9669540229885057, 0.9669540229885057, 0.9669540229885057, 0.9669540229885057, 0.9669540229885057, 0.9669540229885057, 0.9669540229885057, 0.9669540229885057, 0.9669540229885057, 0.9669540229885057, 0.9669540229885057, 0.9669540229885056, 0.9669540229885057, 0.9669540229885057, 0.9669540229885057, 0.9669540229885057, 0.9669540229885057, 0.9669540229885056, 0.9669540229885057, 0.9669540229885057, 0.9683908045977012, 0.9669540229885057, 0.964080459770115, 0.9669540229885057, 0.9669540229885057, 0.9669540229885057, 0.9669540229885057, 0.9655172413793104, 0.9669540229885057, 0.9669540229885057, 0.9669540229885057, 0.9669540229885057, 0.9669540229885057, 0.9669540229885057, 0.9683908045977011]\n",
      "Best score: 0.9683908045977012\n"
     ]
    }
   ],
   "source": [
    "model = LogisticRegression()\n",
    "parameter_grid_ = {\n",
    "        'l2_penalty':np.linspace(1, 10, 10),\n",
    "        'alpha':  np.linspace(0.001, 0.0001, 100),\n",
    "        'max_iter': np.linspace(1000, 2000, 200)\n",
    "    }\n",
    "results_ = randomized_search_cv(model,\n",
    "                          breast_bin,\n",
    "                          hyperparameter_grid=parameter_grid_,\n",
    "                          cv=3,\n",
    "                          n_iter=100)\n",
    "\n",
    "print(results_)\n",
    "\n",
    "#scores\n",
    "print(results_[\"scores\"])\n",
    "\n",
    "# get the best score\n",
    "best_score = results_['best_score']\n",
    "print(f\"Best score: {best_score}\")"
   ]
  }
 ],
 "metadata": {
  "kernelspec": {
   "display_name": "base",
   "language": "python",
   "name": "python3"
  },
  "language_info": {
   "codemirror_mode": {
    "name": "ipython",
    "version": 3
   },
   "file_extension": ".py",
   "mimetype": "text/x-python",
   "name": "python",
   "nbconvert_exporter": "python",
   "pygments_lexer": "ipython3",
   "version": "3.11.4"
  }
 },
 "nbformat": 4,
 "nbformat_minor": 2
}
