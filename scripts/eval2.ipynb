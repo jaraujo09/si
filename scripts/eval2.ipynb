{
 "cells": [
  {
   "cell_type": "markdown",
   "metadata": {},
   "source": [
    "### Avaliação 2 - Testing SelectPercentile"
   ]
  },
  {
   "cell_type": "code",
   "execution_count": 1,
   "metadata": {},
   "outputs": [],
   "source": [
    "import numpy as np\n",
    "import pandas as pd\n",
    "from si.data.dataset import Dataset\n",
    "from si.io.csv_file import read_csv\n",
    "from si.feature_selection.select_percentile import SelectPercentile\n",
    "from si.statistics.f_classification import f_classification"
   ]
  },
  {
   "cell_type": "code",
   "execution_count": 2,
   "metadata": {},
   "outputs": [
    {
     "data": {
      "text/plain": [
       "array([[5.1, 3.5, 1.4, 0.2],\n",
       "       [4.9, 3. , 1.4, 0.2],\n",
       "       [4.7, 3.2, 1.3, 0.2],\n",
       "       [4.6, 3.1, 1.5, 0.2],\n",
       "       [5. , 3.6, 1.4, 0.2],\n",
       "       [5.4, 3.9, 1.7, 0.4],\n",
       "       [4.6, 3.4, 1.4, 0.3],\n",
       "       [5. , 3.4, 1.5, 0.2],\n",
       "       [4.4, 2.9, 1.4, 0.2],\n",
       "       [4.9, 3.1, 1.5, 0.1]])"
      ]
     },
     "execution_count": 2,
     "metadata": {},
     "output_type": "execute_result"
    }
   ],
   "source": [
    "filename = 'C:\\\\Users\\\\Fofinha\\\\Desktop\\\\UNI\\\\MESTRADO\\\\2o ANO\\\\Sistemas Inteligentes\\\\si\\\\datasets\\\\iris\\\\iris.csv'\n",
    "dataset = read_csv(filename= filename, sep = ',', features = True, label = True)\n",
    "dataset.X[:10]"
   ]
  },
  {
   "cell_type": "code",
   "execution_count": 3,
   "metadata": {},
   "outputs": [
    {
     "name": "stdout",
     "output_type": "stream",
     "text": [
      "P-value: [1.66966919e-31 1.32791652e-16 3.05197580e-91 4.37695696e-85]\n",
      "F-value: [ 119.26450218   47.3644614  1179.0343277   959.32440573]\n"
     ]
    }
   ],
   "source": [
    "selector = SelectPercentile(score_func=f_classification, percentile = 50)\n",
    "\n",
    "selector.fit_transform(dataset)\n",
    "\n",
    "print('P-value:', selector.p)\n",
    "print('F-value:', selector.F)"
   ]
  },
  {
   "cell_type": "code",
   "execution_count": 4,
   "metadata": {},
   "outputs": [
    {
     "data": {
      "text/plain": [
       "(150, 2)"
      ]
     },
     "execution_count": 4,
     "metadata": {},
     "output_type": "execute_result"
    }
   ],
   "source": [
    "transformed_df = selector.fit_transform(dataset)\n",
    "transformed_df.shape()"
   ]
  },
  {
   "cell_type": "code",
   "execution_count": 8,
   "metadata": {},
   "outputs": [
    {
     "name": "stdout",
     "output_type": "stream",
     "text": [
      "Features after percentile selection: \n",
      " ['petal_width', 'petal_length']\n",
      "Shape:  (150, 2)\n"
     ]
    }
   ],
   "source": [
    "selector.fit(dataset)\n",
    "transformed_df = selector.transform(dataset)\n",
    "print(\"Features after percentile selection: \\n\", transformed_df.features)\n",
    "print('Shape: ', transformed_df.shape() )"
   ]
  }
 ],
 "metadata": {
  "kernelspec": {
   "display_name": "base",
   "language": "python",
   "name": "python3"
  },
  "language_info": {
   "codemirror_mode": {
    "name": "ipython",
    "version": 3
   },
   "file_extension": ".py",
   "mimetype": "text/x-python",
   "name": "python",
   "nbconvert_exporter": "python",
   "pygments_lexer": "ipython3",
   "version": "3.11.4"
  },
  "orig_nbformat": 4
 },
 "nbformat": 4,
 "nbformat_minor": 2
}
