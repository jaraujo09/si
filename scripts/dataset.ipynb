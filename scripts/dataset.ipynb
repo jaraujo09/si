{
 "cells": [
  {
   "cell_type": "markdown",
   "metadata": {
    "collapsed": false
   },
   "source": [
    "## SIB - P1\n",
    "\n",
    "A Jupyter Notebook with examples of how to use the Dataset object.\n",
    "18/09/2023"
   ]
  },
  {
   "cell_type": "code",
   "execution_count": 1,
   "metadata": {
    "ExecuteTime": {
     "end_time": "2023-10-11T13:46:27.011057626Z",
     "start_time": "2023-10-11T13:46:26.857595819Z"
    },
    "collapsed": false
   },
   "outputs": [
    {
     "data": {
      "text/plain": [
       "(150, 30)"
      ]
     },
     "execution_count": 1,
     "metadata": {},
     "output_type": "execute_result"
    }
   ],
   "source": [
    "from si.data.dataset import Dataset\n",
    "import numpy as np\n",
    "\n",
    "# create a dataset\n",
    "X = np.random.rand(150, 30)\n",
    "y = np.random.randint(0, 2, 150)\n",
    "dataset = Dataset(X, y)\n",
    "dataset.shape()"
   ]
  },
  {
   "cell_type": "code",
   "execution_count": 2,
   "metadata": {
    "ExecuteTime": {
     "end_time": "2023-10-11T13:46:28.765086450Z",
     "start_time": "2023-10-11T13:46:28.758592952Z"
    },
    "collapsed": false
   },
   "outputs": [
    {
     "data": {
      "text/plain": [
       "array([[0.85228015, 0.80749453, 0.57486695, ..., 0.67445269, 0.55845254,\n",
       "        0.8517487 ],\n",
       "       [0.76383361, 0.78538514, 0.0279985 , ..., 0.59136597, 0.23789901,\n",
       "        0.20486591],\n",
       "       [0.45123929, 0.65042743, 0.81298505, ..., 0.87214239, 0.93611507,\n",
       "        0.65308772],\n",
       "       ...,\n",
       "       [0.34742091, 0.94998317, 0.97997618, ..., 0.69629931, 0.22392567,\n",
       "        0.6283366 ],\n",
       "       [0.90230521, 0.80952386, 0.96088498, ..., 0.47811387, 0.85292105,\n",
       "        0.66460364],\n",
       "       [0.03648708, 0.73332938, 0.24464103, ..., 0.65203076, 0.26080718,\n",
       "        0.40834504]])"
      ]
     },
     "execution_count": 2,
     "metadata": {},
     "output_type": "execute_result"
    }
   ],
   "source": [
    "# get the X\n",
    "dataset.X"
   ]
  },
  {
   "cell_type": "code",
   "execution_count": 3,
   "metadata": {
    "ExecuteTime": {
     "end_time": "2023-10-11T13:46:31.148328808Z",
     "start_time": "2023-10-11T13:46:31.141231931Z"
    },
    "collapsed": false
   },
   "outputs": [
    {
     "data": {
      "text/plain": [
       "['feat_0',\n",
       " 'feat_1',\n",
       " 'feat_2',\n",
       " 'feat_3',\n",
       " 'feat_4',\n",
       " 'feat_5',\n",
       " 'feat_6',\n",
       " 'feat_7',\n",
       " 'feat_8',\n",
       " 'feat_9',\n",
       " 'feat_10',\n",
       " 'feat_11',\n",
       " 'feat_12',\n",
       " 'feat_13',\n",
       " 'feat_14',\n",
       " 'feat_15',\n",
       " 'feat_16',\n",
       " 'feat_17',\n",
       " 'feat_18',\n",
       " 'feat_19',\n",
       " 'feat_20',\n",
       " 'feat_21',\n",
       " 'feat_22',\n",
       " 'feat_23',\n",
       " 'feat_24',\n",
       " 'feat_25',\n",
       " 'feat_26',\n",
       " 'feat_27',\n",
       " 'feat_28',\n",
       " 'feat_29']"
      ]
     },
     "execution_count": 3,
     "metadata": {},
     "output_type": "execute_result"
    }
   ],
   "source": [
    "#get the features names\n",
    "dataset.features"
   ]
  },
  {
   "cell_type": "code",
   "execution_count": 4,
   "metadata": {
    "ExecuteTime": {
     "end_time": "2023-10-11T13:46:32.899922053Z",
     "start_time": "2023-10-11T13:46:32.892354360Z"
    },
    "collapsed": false
   },
   "outputs": [
    {
     "data": {
      "text/plain": [
       "True"
      ]
     },
     "execution_count": 4,
     "metadata": {},
     "output_type": "execute_result"
    }
   ],
   "source": [
    "# has label?\n",
    "dataset.has_label()"
   ]
  },
  {
   "cell_type": "code",
   "execution_count": 5,
   "metadata": {
    "ExecuteTime": {
     "end_time": "2023-10-11T13:46:33.847618377Z",
     "start_time": "2023-10-11T13:46:33.840507043Z"
    },
    "collapsed": false
   },
   "outputs": [
    {
     "data": {
      "text/plain": [
       "array([0, 1, 1, 1, 0, 1, 1, 0, 1, 1, 0, 1, 0, 0, 1, 0, 0, 0, 0, 0, 1, 1,\n",
       "       0, 1, 1, 1, 0, 0, 0, 0, 0, 0, 0, 1, 1, 0, 1, 1, 1, 0, 0, 1, 1, 1,\n",
       "       0, 0, 0, 1, 0, 1, 1, 0, 0, 0, 1, 1, 1, 1, 1, 1, 1, 0, 0, 0, 1, 0,\n",
       "       1, 0, 1, 1, 1, 0, 1, 0, 0, 0, 1, 0, 0, 1, 0, 0, 0, 0, 1, 0, 1, 1,\n",
       "       0, 0, 0, 0, 1, 0, 0, 1, 0, 1, 0, 1, 1, 1, 0, 0, 1, 1, 1, 0, 1, 0,\n",
       "       1, 1, 1, 1, 0, 0, 0, 1, 1, 1, 1, 0, 1, 1, 0, 1, 1, 0, 0, 0, 0, 0,\n",
       "       1, 1, 0, 1, 1, 1, 1, 1, 1, 1, 1, 1, 1, 0, 1, 1, 0, 0])"
      ]
     },
     "execution_count": 5,
     "metadata": {},
     "output_type": "execute_result"
    }
   ],
   "source": [
    "# print the label\n",
    "dataset.y"
   ]
  },
  {
   "cell_type": "code",
   "execution_count": 6,
   "metadata": {
    "ExecuteTime": {
     "end_time": "2023-10-11T13:46:35.605646129Z",
     "start_time": "2023-10-11T13:46:35.597901803Z"
    },
    "collapsed": false
   },
   "outputs": [
    {
     "data": {
      "text/plain": [
       "array([0, 1])"
      ]
     },
     "execution_count": 6,
     "metadata": {},
     "output_type": "execute_result"
    }
   ],
   "source": [
    "# get classes\n",
    "dataset.get_classes()"
   ]
  },
  {
   "cell_type": "code",
   "execution_count": 7,
   "metadata": {
    "ExecuteTime": {
     "end_time": "2023-10-11T13:46:37.062190459Z",
     "start_time": "2023-10-11T13:46:37.044404440Z"
    },
    "collapsed": false
   },
   "outputs": [
    {
     "data": {
      "text/html": [
       "<div>\n",
       "<style scoped>\n",
       "    .dataframe tbody tr th:only-of-type {\n",
       "        vertical-align: middle;\n",
       "    }\n",
       "\n",
       "    .dataframe tbody tr th {\n",
       "        vertical-align: top;\n",
       "    }\n",
       "\n",
       "    .dataframe thead th {\n",
       "        text-align: right;\n",
       "    }\n",
       "</style>\n",
       "<table border=\"1\" class=\"dataframe\">\n",
       "  <thead>\n",
       "    <tr style=\"text-align: right;\">\n",
       "      <th></th>\n",
       "      <th>feat_0</th>\n",
       "      <th>feat_1</th>\n",
       "      <th>feat_2</th>\n",
       "      <th>feat_3</th>\n",
       "      <th>feat_4</th>\n",
       "      <th>feat_5</th>\n",
       "      <th>feat_6</th>\n",
       "      <th>feat_7</th>\n",
       "      <th>feat_8</th>\n",
       "      <th>feat_9</th>\n",
       "      <th>...</th>\n",
       "      <th>feat_20</th>\n",
       "      <th>feat_21</th>\n",
       "      <th>feat_22</th>\n",
       "      <th>feat_23</th>\n",
       "      <th>feat_24</th>\n",
       "      <th>feat_25</th>\n",
       "      <th>feat_26</th>\n",
       "      <th>feat_27</th>\n",
       "      <th>feat_28</th>\n",
       "      <th>feat_29</th>\n",
       "    </tr>\n",
       "  </thead>\n",
       "  <tbody>\n",
       "    <tr>\n",
       "      <th>mean</th>\n",
       "      <td>0.531235</td>\n",
       "      <td>0.500326</td>\n",
       "      <td>0.504989</td>\n",
       "      <td>0.467080</td>\n",
       "      <td>0.476416</td>\n",
       "      <td>0.504877</td>\n",
       "      <td>0.515107</td>\n",
       "      <td>0.498837</td>\n",
       "      <td>0.521068</td>\n",
       "      <td>0.482569</td>\n",
       "      <td>...</td>\n",
       "      <td>0.478348</td>\n",
       "      <td>0.499259</td>\n",
       "      <td>0.486483</td>\n",
       "      <td>0.447191</td>\n",
       "      <td>0.518180</td>\n",
       "      <td>0.504872</td>\n",
       "      <td>0.516896</td>\n",
       "      <td>0.518139</td>\n",
       "      <td>0.483291</td>\n",
       "      <td>0.484347</td>\n",
       "    </tr>\n",
       "    <tr>\n",
       "      <th>median</th>\n",
       "      <td>0.552917</td>\n",
       "      <td>0.493838</td>\n",
       "      <td>0.474359</td>\n",
       "      <td>0.431224</td>\n",
       "      <td>0.448607</td>\n",
       "      <td>0.505083</td>\n",
       "      <td>0.516810</td>\n",
       "      <td>0.501009</td>\n",
       "      <td>0.539121</td>\n",
       "      <td>0.461260</td>\n",
       "      <td>...</td>\n",
       "      <td>0.468364</td>\n",
       "      <td>0.488495</td>\n",
       "      <td>0.477117</td>\n",
       "      <td>0.424582</td>\n",
       "      <td>0.529027</td>\n",
       "      <td>0.477498</td>\n",
       "      <td>0.544002</td>\n",
       "      <td>0.553139</td>\n",
       "      <td>0.421165</td>\n",
       "      <td>0.516975</td>\n",
       "    </tr>\n",
       "    <tr>\n",
       "      <th>min</th>\n",
       "      <td>0.002553</td>\n",
       "      <td>0.021472</td>\n",
       "      <td>0.002471</td>\n",
       "      <td>0.004415</td>\n",
       "      <td>0.019876</td>\n",
       "      <td>0.005007</td>\n",
       "      <td>0.001658</td>\n",
       "      <td>0.010056</td>\n",
       "      <td>0.000032</td>\n",
       "      <td>0.000651</td>\n",
       "      <td>...</td>\n",
       "      <td>0.001620</td>\n",
       "      <td>0.018805</td>\n",
       "      <td>0.019779</td>\n",
       "      <td>0.003081</td>\n",
       "      <td>0.003481</td>\n",
       "      <td>0.000480</td>\n",
       "      <td>0.002310</td>\n",
       "      <td>0.007319</td>\n",
       "      <td>0.003209</td>\n",
       "      <td>0.002368</td>\n",
       "    </tr>\n",
       "    <tr>\n",
       "      <th>max</th>\n",
       "      <td>0.993245</td>\n",
       "      <td>0.992803</td>\n",
       "      <td>0.995450</td>\n",
       "      <td>0.998042</td>\n",
       "      <td>0.996492</td>\n",
       "      <td>0.999486</td>\n",
       "      <td>0.987209</td>\n",
       "      <td>0.990616</td>\n",
       "      <td>0.994821</td>\n",
       "      <td>0.997407</td>\n",
       "      <td>...</td>\n",
       "      <td>0.996414</td>\n",
       "      <td>0.997361</td>\n",
       "      <td>0.988195</td>\n",
       "      <td>0.994641</td>\n",
       "      <td>0.992292</td>\n",
       "      <td>0.986779</td>\n",
       "      <td>0.985894</td>\n",
       "      <td>0.990336</td>\n",
       "      <td>0.997794</td>\n",
       "      <td>0.997862</td>\n",
       "    </tr>\n",
       "    <tr>\n",
       "      <th>var</th>\n",
       "      <td>0.089095</td>\n",
       "      <td>0.077102</td>\n",
       "      <td>0.076819</td>\n",
       "      <td>0.092417</td>\n",
       "      <td>0.080456</td>\n",
       "      <td>0.099040</td>\n",
       "      <td>0.090057</td>\n",
       "      <td>0.072190</td>\n",
       "      <td>0.076495</td>\n",
       "      <td>0.080048</td>\n",
       "      <td>...</td>\n",
       "      <td>0.085078</td>\n",
       "      <td>0.085065</td>\n",
       "      <td>0.080870</td>\n",
       "      <td>0.084287</td>\n",
       "      <td>0.078365</td>\n",
       "      <td>0.087306</td>\n",
       "      <td>0.078911</td>\n",
       "      <td>0.082462</td>\n",
       "      <td>0.079398</td>\n",
       "      <td>0.077689</td>\n",
       "    </tr>\n",
       "  </tbody>\n",
       "</table>\n",
       "<p>5 rows × 30 columns</p>\n",
       "</div>"
      ],
      "text/plain": [
       "          feat_0    feat_1    feat_2    feat_3    feat_4    feat_5    feat_6  \\\n",
       "mean    0.531235  0.500326  0.504989  0.467080  0.476416  0.504877  0.515107   \n",
       "median  0.552917  0.493838  0.474359  0.431224  0.448607  0.505083  0.516810   \n",
       "min     0.002553  0.021472  0.002471  0.004415  0.019876  0.005007  0.001658   \n",
       "max     0.993245  0.992803  0.995450  0.998042  0.996492  0.999486  0.987209   \n",
       "var     0.089095  0.077102  0.076819  0.092417  0.080456  0.099040  0.090057   \n",
       "\n",
       "          feat_7    feat_8    feat_9  ...   feat_20   feat_21   feat_22  \\\n",
       "mean    0.498837  0.521068  0.482569  ...  0.478348  0.499259  0.486483   \n",
       "median  0.501009  0.539121  0.461260  ...  0.468364  0.488495  0.477117   \n",
       "min     0.010056  0.000032  0.000651  ...  0.001620  0.018805  0.019779   \n",
       "max     0.990616  0.994821  0.997407  ...  0.996414  0.997361  0.988195   \n",
       "var     0.072190  0.076495  0.080048  ...  0.085078  0.085065  0.080870   \n",
       "\n",
       "         feat_23   feat_24   feat_25   feat_26   feat_27   feat_28   feat_29  \n",
       "mean    0.447191  0.518180  0.504872  0.516896  0.518139  0.483291  0.484347  \n",
       "median  0.424582  0.529027  0.477498  0.544002  0.553139  0.421165  0.516975  \n",
       "min     0.003081  0.003481  0.000480  0.002310  0.007319  0.003209  0.002368  \n",
       "max     0.994641  0.992292  0.986779  0.985894  0.990336  0.997794  0.997862  \n",
       "var     0.084287  0.078365  0.087306  0.078911  0.082462  0.079398  0.077689  \n",
       "\n",
       "[5 rows x 30 columns]"
      ]
     },
     "execution_count": 7,
     "metadata": {},
     "output_type": "execute_result"
    }
   ],
   "source": [
    "# statistics summary\n",
    "dataset.summary()"
   ]
  },
  {
   "cell_type": "code",
   "execution_count": 8,
   "metadata": {
    "ExecuteTime": {
     "end_time": "2023-10-11T13:50:16.495524255Z",
     "start_time": "2023-10-11T13:50:16.451435922Z"
    },
    "collapsed": false
   },
   "outputs": [
    {
     "data": {
      "text/html": [
       "<div>\n",
       "<style scoped>\n",
       "    .dataframe tbody tr th:only-of-type {\n",
       "        vertical-align: middle;\n",
       "    }\n",
       "\n",
       "    .dataframe tbody tr th {\n",
       "        vertical-align: top;\n",
       "    }\n",
       "\n",
       "    .dataframe thead th {\n",
       "        text-align: right;\n",
       "    }\n",
       "</style>\n",
       "<table border=\"1\" class=\"dataframe\">\n",
       "  <thead>\n",
       "    <tr style=\"text-align: right;\">\n",
       "      <th></th>\n",
       "      <th>feat_0</th>\n",
       "      <th>feat_1</th>\n",
       "      <th>feat_2</th>\n",
       "      <th>feat_3</th>\n",
       "      <th>feat_4</th>\n",
       "      <th>feat_5</th>\n",
       "      <th>feat_6</th>\n",
       "      <th>feat_7</th>\n",
       "      <th>feat_8</th>\n",
       "    </tr>\n",
       "  </thead>\n",
       "  <tbody>\n",
       "    <tr>\n",
       "      <th>mean</th>\n",
       "      <td>4.417740</td>\n",
       "      <td>3.134478</td>\n",
       "      <td>3.207439</td>\n",
       "      <td>2.806867</td>\n",
       "      <td>3.216023</td>\n",
       "      <td>3.486409</td>\n",
       "      <td>3.437768</td>\n",
       "      <td>2.866953</td>\n",
       "      <td>1.589413</td>\n",
       "    </tr>\n",
       "    <tr>\n",
       "      <th>median</th>\n",
       "      <td>4.000000</td>\n",
       "      <td>1.000000</td>\n",
       "      <td>1.000000</td>\n",
       "      <td>1.000000</td>\n",
       "      <td>2.000000</td>\n",
       "      <td>1.000000</td>\n",
       "      <td>3.000000</td>\n",
       "      <td>1.000000</td>\n",
       "      <td>1.000000</td>\n",
       "    </tr>\n",
       "    <tr>\n",
       "      <th>min</th>\n",
       "      <td>1.000000</td>\n",
       "      <td>1.000000</td>\n",
       "      <td>1.000000</td>\n",
       "      <td>1.000000</td>\n",
       "      <td>1.000000</td>\n",
       "      <td>1.000000</td>\n",
       "      <td>1.000000</td>\n",
       "      <td>1.000000</td>\n",
       "      <td>1.000000</td>\n",
       "    </tr>\n",
       "    <tr>\n",
       "      <th>max</th>\n",
       "      <td>10.000000</td>\n",
       "      <td>10.000000</td>\n",
       "      <td>10.000000</td>\n",
       "      <td>10.000000</td>\n",
       "      <td>10.000000</td>\n",
       "      <td>10.000000</td>\n",
       "      <td>10.000000</td>\n",
       "      <td>10.000000</td>\n",
       "      <td>10.000000</td>\n",
       "    </tr>\n",
       "    <tr>\n",
       "      <th>var</th>\n",
       "      <td>7.917053</td>\n",
       "      <td>9.298082</td>\n",
       "      <td>8.819630</td>\n",
       "      <td>8.141527</td>\n",
       "      <td>4.896110</td>\n",
       "      <td>13.099601</td>\n",
       "      <td>5.937114</td>\n",
       "      <td>9.311340</td>\n",
       "      <td>2.937284</td>\n",
       "    </tr>\n",
       "  </tbody>\n",
       "</table>\n",
       "</div>"
      ],
      "text/plain": [
       "           feat_0     feat_1     feat_2     feat_3     feat_4     feat_5  \\\n",
       "mean     4.417740   3.134478   3.207439   2.806867   3.216023   3.486409   \n",
       "median   4.000000   1.000000   1.000000   1.000000   2.000000   1.000000   \n",
       "min      1.000000   1.000000   1.000000   1.000000   1.000000   1.000000   \n",
       "max     10.000000  10.000000  10.000000  10.000000  10.000000  10.000000   \n",
       "var      7.917053   9.298082   8.819630   8.141527   4.896110  13.099601   \n",
       "\n",
       "           feat_6     feat_7     feat_8  \n",
       "mean     3.437768   2.866953   1.589413  \n",
       "median   3.000000   1.000000   1.000000  \n",
       "min      1.000000   1.000000   1.000000  \n",
       "max     10.000000  10.000000  10.000000  \n",
       "var      5.937114   9.311340   2.937284  "
      ]
     },
     "execution_count": 8,
     "metadata": {},
     "output_type": "execute_result"
    }
   ],
   "source": [
    "from si.io.data_file import read_data_file\n",
    "\n",
    "# read breast dataset from data file\n",
    "breast_dataset = read_data_file('../datasets/breast_bin/breast-bin.data', sep=',', label=True)\n",
    "breast_dataset.summary()"
   ]
  },
  {
   "cell_type": "code",
   "execution_count": 9,
   "metadata": {
    "ExecuteTime": {
     "end_time": "2023-10-11T13:50:20.027774079Z",
     "start_time": "2023-10-11T13:50:20.025074614Z"
    },
    "collapsed": false
   },
   "outputs": [
    {
     "data": {
      "text/plain": [
       "array([1., 0., 0., 0., 1., 0., 0., 0., 0., 1., 0., 0., 0., 0., 0., 0., 0.,\n",
       "       0., 0., 1., 0., 0., 0., 0., 0., 1., 1., 1., 1., 1., 1., 0., 1., 1.,\n",
       "       0., 1., 0., 1., 0., 0., 1., 1., 0., 0., 0., 0., 1., 1., 0., 0., 0.,\n",
       "       1., 0., 0., 0., 0., 0., 0., 0., 0., 1., 1., 0., 0., 0., 0., 0., 0.,\n",
       "       0., 0., 0., 1., 1., 0., 0., 0., 0., 0., 0., 1., 0., 0., 0., 1., 1.,\n",
       "       1., 0., 0., 1., 0., 1., 0., 1., 0., 0., 1., 0., 0., 0., 0., 0., 0.,\n",
       "       0., 1., 1., 1., 1., 0., 0., 0., 0., 0., 1., 0., 0., 0., 1., 1., 0.,\n",
       "       0., 0., 0., 0., 0., 0., 0., 0., 0., 0., 0., 0., 0., 0., 1., 1., 0.,\n",
       "       1., 1., 0., 1., 1., 0., 0., 0., 0., 0., 0., 1., 0., 1., 0., 0., 1.,\n",
       "       0., 0., 0., 0., 0., 0., 0., 0., 0., 0., 0., 1., 0., 1., 0., 0., 0.,\n",
       "       0., 0., 1., 1., 1., 0., 0., 0., 1., 0., 0., 0., 0., 1., 1., 0., 0.,\n",
       "       0., 0., 1., 0., 0., 0., 0., 0., 0., 1., 1., 0., 1., 1., 0., 1., 0.,\n",
       "       0., 0., 0., 0., 0., 1., 0., 1., 0., 0., 0., 0., 0., 0., 0., 0., 1.,\n",
       "       1., 0., 1., 0., 0., 0., 0., 0., 1., 1., 0., 0., 1., 0., 1., 1., 0.,\n",
       "       1., 1., 0., 0., 1., 1., 1., 1., 0., 1., 1., 0., 0., 0., 0., 1., 0.,\n",
       "       1., 1., 1., 1., 0., 1., 1., 0., 0., 0., 0., 1., 0., 0., 0., 0., 0.,\n",
       "       0., 0., 1., 1., 1., 0., 1., 0., 0., 1., 1., 1., 1., 1., 0., 0., 0.,\n",
       "       0., 0., 1., 0., 0., 0., 0., 0., 1., 0., 1., 1., 0., 1., 0., 1., 0.,\n",
       "       0., 0., 0., 1., 1., 0., 1., 0., 0., 0., 0., 1., 0., 1., 0., 0., 0.,\n",
       "       0., 1., 1., 0., 0., 0., 1., 0., 0., 0., 0., 1., 0., 1., 0., 1., 1.,\n",
       "       0., 0., 0., 0., 0., 0., 0., 1., 0., 0., 0., 0., 0., 0., 0., 0., 0.,\n",
       "       1., 0., 0., 0., 0., 0., 0., 0., 1., 0., 1., 1., 1., 1., 0., 0., 0.,\n",
       "       0., 1., 0., 0., 0., 0., 0., 0., 0., 1., 1., 0., 0., 0., 0., 0., 0.,\n",
       "       1., 0., 0., 1., 0., 0., 0., 0., 0., 1., 0., 1., 0., 1., 0., 0., 0.,\n",
       "       0., 1., 1., 1., 1., 0., 0., 1., 0., 1., 0., 0., 1., 0., 1., 1., 1.,\n",
       "       0., 1., 0., 0., 1., 1., 1., 0., 0., 0., 0., 0., 0., 1., 0., 1., 1.,\n",
       "       0., 1., 0., 1., 1., 0., 1., 1., 0., 0., 1., 0., 1., 0., 0., 0., 0.,\n",
       "       1., 0., 0., 1., 0., 0., 1., 0., 0., 0., 0., 0., 1., 1., 1., 1., 0.,\n",
       "       0., 0., 0., 1., 1., 0., 0., 0., 0., 1., 0., 0., 0., 0., 1., 1., 0.,\n",
       "       0., 0., 0., 1., 1., 0., 0., 1., 0., 1., 0., 1., 0., 0., 0., 1., 0.,\n",
       "       0., 1., 1., 0., 1., 0., 0., 1., 1., 0., 0., 1., 1., 1., 1., 0., 0.,\n",
       "       1., 0., 1., 0., 0., 1., 0., 0., 0., 1., 1., 1., 0., 0., 1., 0., 0.,\n",
       "       0., 0., 1., 0., 0., 1., 1., 1., 1., 0., 1., 0., 0., 0., 0., 1., 0.,\n",
       "       0., 0., 0., 0., 0., 0., 0., 1., 0., 0., 1., 0., 0., 0., 0., 0., 0.,\n",
       "       1., 0., 0., 0., 0., 0., 0., 0., 1., 1., 0., 1., 0., 0., 1., 1., 1.,\n",
       "       1., 1., 0., 0., 0., 0., 0., 0., 0., 1., 1., 0., 1., 0., 1., 0., 0.,\n",
       "       1., 0., 0., 0., 1., 0., 0., 1., 1., 0., 0., 1., 0., 1., 1., 1., 0.,\n",
       "       0., 0., 0., 0., 0., 0., 1., 1., 1., 1., 1., 0., 1., 0., 0., 0., 1.,\n",
       "       0., 0., 1., 0., 0., 0., 0., 1., 0., 1., 0., 1., 1., 0., 0., 1., 1.,\n",
       "       0., 1., 0., 1., 0., 0., 0., 0., 0., 0., 1., 1., 0., 0., 0., 1., 0.,\n",
       "       1., 0., 1., 0., 0., 0., 0., 0., 0., 0., 1., 0., 1., 0., 0., 0., 0.,\n",
       "       0., 1.])"
      ]
     },
     "execution_count": 9,
     "metadata": {},
     "output_type": "execute_result"
    }
   ],
   "source": [
    "breast_dataset.y"
   ]
  },
  {
   "cell_type": "code",
   "execution_count": 10,
   "metadata": {
    "ExecuteTime": {
     "end_time": "2023-10-11T13:50:21.928943706Z",
     "start_time": "2023-10-11T13:50:21.924641506Z"
    },
    "collapsed": false
   },
   "outputs": [
    {
     "name": "stdout",
     "output_type": "stream",
     "text": [
      "Features ['feat_0', 'feat_1', 'feat_2', 'feat_3', 'feat_4', 'feat_5', 'feat_6', 'feat_7', 'feat_8']\n",
      "Label y\n"
     ]
    }
   ],
   "source": [
    "print('Features', breast_dataset.features)\n",
    "print('Label', breast_dataset.label)"
   ]
  },
  {
   "cell_type": "code",
   "execution_count": 11,
   "metadata": {
    "ExecuteTime": {
     "end_time": "2023-10-11T13:50:46.905880648Z",
     "start_time": "2023-10-11T13:50:46.862070764Z"
    },
    "collapsed": false
   },
   "outputs": [],
   "source": [
    "# write the same fila with a different name\n",
    "from si.io.data_file import write_data_file\n",
    "write_data_file('../datasets/breast_bin/breast-bin_tabular.tsv', breast_dataset, sep='\\t', label=True)"
   ]
  },
  {
   "cell_type": "code",
   "execution_count": 13,
   "metadata": {
    "ExecuteTime": {
     "end_time": "2023-10-11T13:52:21.143159153Z",
     "start_time": "2023-10-11T13:52:21.098533447Z"
    },
    "collapsed": false
   },
   "outputs": [
    {
     "data": {
      "text/html": [
       "<div>\n",
       "<style scoped>\n",
       "    .dataframe tbody tr th:only-of-type {\n",
       "        vertical-align: middle;\n",
       "    }\n",
       "\n",
       "    .dataframe tbody tr th {\n",
       "        vertical-align: top;\n",
       "    }\n",
       "\n",
       "    .dataframe thead th {\n",
       "        text-align: right;\n",
       "    }\n",
       "</style>\n",
       "<table border=\"1\" class=\"dataframe\">\n",
       "  <thead>\n",
       "    <tr style=\"text-align: right;\">\n",
       "      <th></th>\n",
       "      <th>sepal_length</th>\n",
       "      <th>sepal_width</th>\n",
       "      <th>petal_length</th>\n",
       "      <th>petal_width</th>\n",
       "    </tr>\n",
       "  </thead>\n",
       "  <tbody>\n",
       "    <tr>\n",
       "      <th>mean</th>\n",
       "      <td>5.843333</td>\n",
       "      <td>3.054000</td>\n",
       "      <td>3.758667</td>\n",
       "      <td>1.198667</td>\n",
       "    </tr>\n",
       "    <tr>\n",
       "      <th>median</th>\n",
       "      <td>5.800000</td>\n",
       "      <td>3.000000</td>\n",
       "      <td>4.350000</td>\n",
       "      <td>1.300000</td>\n",
       "    </tr>\n",
       "    <tr>\n",
       "      <th>min</th>\n",
       "      <td>4.300000</td>\n",
       "      <td>2.000000</td>\n",
       "      <td>1.000000</td>\n",
       "      <td>0.100000</td>\n",
       "    </tr>\n",
       "    <tr>\n",
       "      <th>max</th>\n",
       "      <td>7.900000</td>\n",
       "      <td>4.400000</td>\n",
       "      <td>6.900000</td>\n",
       "      <td>2.500000</td>\n",
       "    </tr>\n",
       "    <tr>\n",
       "      <th>var</th>\n",
       "      <td>0.681122</td>\n",
       "      <td>0.186751</td>\n",
       "      <td>3.092425</td>\n",
       "      <td>0.578532</td>\n",
       "    </tr>\n",
       "  </tbody>\n",
       "</table>\n",
       "</div>"
      ],
      "text/plain": [
       "        sepal_length  sepal_width  petal_length  petal_width\n",
       "mean        5.843333     3.054000      3.758667     1.198667\n",
       "median      5.800000     3.000000      4.350000     1.300000\n",
       "min         4.300000     2.000000      1.000000     0.100000\n",
       "max         7.900000     4.400000      6.900000     2.500000\n",
       "var         0.681122     0.186751      3.092425     0.578532"
      ]
     },
     "execution_count": 13,
     "metadata": {},
     "output_type": "execute_result"
    }
   ],
   "source": [
    "from si.io.csv_file import read_csv\n",
    "\n",
    "# read iris dataset from data file\n",
    "iris_dataset = read_csv('../datasets/iris/iris.csv', sep=',', features=True, label=True)\n",
    "iris_dataset.summary()"
   ]
  },
  {
   "cell_type": "code",
   "execution_count": 14,
   "metadata": {
    "ExecuteTime": {
     "end_time": "2023-10-11T13:52:22.740687584Z",
     "start_time": "2023-10-11T13:52:22.729756260Z"
    },
    "collapsed": false
   },
   "outputs": [
    {
     "data": {
      "text/plain": [
       "array(['Iris-setosa', 'Iris-versicolor', 'Iris-virginica'], dtype=object)"
      ]
     },
     "execution_count": 14,
     "metadata": {},
     "output_type": "execute_result"
    }
   ],
   "source": [
    "iris_dataset.get_classes()"
   ]
  },
  {
   "cell_type": "code",
   "execution_count": 15,
   "metadata": {
    "ExecuteTime": {
     "end_time": "2023-10-11T13:52:36.441990348Z",
     "start_time": "2023-10-11T13:52:36.396815304Z"
    },
    "collapsed": false
   },
   "outputs": [],
   "source": [
    "# write the same file with a different name\n",
    "from si.io.csv_file import write_csv\n",
    "write_csv('../datasets/iris/iris_tabular.tsv', iris_dataset, sep='\\t', features=True, label=True)"
   ]
  },
  {
   "cell_type": "code",
   "execution_count": 16,
   "metadata": {
    "ExecuteTime": {
     "end_time": "2023-10-11T13:55:26.102580270Z",
     "start_time": "2023-10-11T13:55:26.057693814Z"
    },
    "collapsed": false
   },
   "outputs": [
    {
     "data": {
      "text/plain": [
       "array([0, 1, 2, 3])"
      ]
     },
     "execution_count": 16,
     "metadata": {},
     "output_type": "execute_result"
    }
   ],
   "source": [
    "# random dataset\n",
    "from si.data.dataset import Dataset\n",
    "random_dataset = Dataset.from_random(150, 30, 4)\n",
    "random_dataset.get_classes()"
   ]
  },
  {
   "cell_type": "code",
   "execution_count": 17,
   "metadata": {
    "ExecuteTime": {
     "end_time": "2023-10-11T13:55:29.717977642Z",
     "start_time": "2023-10-11T13:55:29.672689237Z"
    },
    "collapsed": false
   },
   "outputs": [
    {
     "data": {
      "text/plain": [
       "array([[0.27582031, 0.22091549, 0.71849499, ..., 0.90194648, 0.69883875,\n",
       "        0.50472101],\n",
       "       [0.25554598, 0.91948352, 0.88329901, ..., 0.70058027, 0.33038292,\n",
       "        0.19459901],\n",
       "       [0.68398012, 0.39927887, 0.34570929, ..., 0.99700576, 0.77513039,\n",
       "        0.13815143],\n",
       "       ...,\n",
       "       [0.1565986 , 0.24079035, 0.75572141, ..., 0.98705846, 0.15228135,\n",
       "        0.71954645],\n",
       "       [0.96829653, 0.32400146, 0.63950952, ..., 0.87025604, 0.68666194,\n",
       "        0.04257575],\n",
       "       [0.85425513, 0.35989371, 0.87468779, ..., 0.55813434, 0.50358235,\n",
       "        0.22487049]])"
      ]
     },
     "execution_count": 17,
     "metadata": {},
     "output_type": "execute_result"
    }
   ],
   "source": [
    "# from dataframe\n",
    "import numpy as np\n",
    "import pandas as pd\n",
    "\n",
    "df = pd.DataFrame(np.random.rand(150, 30))\n",
    "df_dataset = Dataset.from_dataframe(df)\n",
    "df_dataset.X"
   ]
  },
  {
   "cell_type": "code",
   "execution_count": 18,
   "metadata": {
    "ExecuteTime": {
     "end_time": "2023-10-11T13:55:31.649678974Z",
     "start_time": "2023-10-11T13:55:31.630719225Z"
    },
    "collapsed": false
   },
   "outputs": [
    {
     "data": {
      "text/plain": [
       "False"
      ]
     },
     "execution_count": 18,
     "metadata": {},
     "output_type": "execute_result"
    }
   ],
   "source": [
    "df_dataset.has_label()"
   ]
  }
 ],
 "metadata": {
  "kernelspec": {
   "display_name": "Python 3",
   "language": "python",
   "name": "python3"
  },
  "language_info": {
   "codemirror_mode": {
    "name": "ipython",
    "version": 3
   },
   "file_extension": ".py",
   "mimetype": "text/x-python",
   "name": "python",
   "nbconvert_exporter": "python",
   "pygments_lexer": "ipython3",
   "version": "3.11.4"
  }
 },
 "nbformat": 4,
 "nbformat_minor": 0
}
