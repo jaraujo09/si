{
 "cells": [
  {
   "cell_type": "markdown",
   "metadata": {},
   "source": [
    "### Avaliação 4"
   ]
  },
  {
   "cell_type": "markdown",
   "metadata": {},
   "source": [
    "#### ex. 6 - Stratified splitting"
   ]
  },
  {
   "cell_type": "code",
   "execution_count": 1,
   "metadata": {},
   "outputs": [],
   "source": [
    "from si.data.dataset import Dataset\n",
    "from si.io.csv_file import read_csv, write_csv\n",
    "from si.model_selection.split import stratified_train_test_split, train_test_split\n",
    "from collections import Counter"
   ]
  },
  {
   "cell_type": "code",
   "execution_count": 2,
   "metadata": {},
   "outputs": [],
   "source": [
    "filename = r\"C:\\Users\\Fofinha\\Desktop\\UNI\\MESTRADO\\2o ANO\\Sistemas Inteligentes\\si\\datasets\\iris\\iris.csv\""
   ]
  },
  {
   "cell_type": "code",
   "execution_count": 3,
   "metadata": {},
   "outputs": [
    {
     "data": {
      "text/plain": [
       "array(['Iris-setosa', 'Iris-versicolor', 'Iris-virginica'], dtype=object)"
      ]
     },
     "execution_count": 3,
     "metadata": {},
     "output_type": "execute_result"
    }
   ],
   "source": [
    "iris = read_csv(filename=filename, sep = \",\", features=True, label=True)\n",
    "iris.shape()  #150 linhas e 4 colunas\n",
    "iris.get_classes() #3 classes"
   ]
  },
  {
   "cell_type": "code",
   "execution_count": 4,
   "metadata": {},
   "outputs": [
    {
     "name": "stdout",
     "output_type": "stream",
     "text": [
      "Train data:  (120, 4)\n",
      "Test Data:  (30, 4)\n"
     ]
    }
   ],
   "source": [
    "train_data, test_data = stratified_train_test_split(iris, test_size=0.2, random_state=42)\n",
    "print('Train data: ', train_data.shape())\n",
    "print('Test Data: ', test_data.shape())  #150 * 0.2 = 30 parece-me bem"
   ]
  },
  {
   "cell_type": "markdown",
   "metadata": {},
   "source": [
    "#### ex. 7.3. KNNRegressor"
   ]
  },
  {
   "cell_type": "code",
   "execution_count": 7,
   "metadata": {},
   "outputs": [
    {
     "name": "stdout",
     "output_type": "stream",
     "text": [
      "(209, 6)\n",
      "116\n"
     ]
    }
   ],
   "source": [
    "from si.models.knn_regressor import *\n",
    "\n",
    "filename = r\"C:\\Users\\Fofinha\\Desktop\\UNI\\MESTRADO\\2o ANO\\Sistemas Inteligentes\\si\\datasets\\cpu\\cpu.csv\"\n",
    "\n",
    "cpu = read_csv(filename=filename, sep = \",\", features=True, label=True)\n",
    "print(cpu.shape())\n",
    "print(len(cpu.get_classes()))"
   ]
  },
  {
   "cell_type": "code",
   "execution_count": 6,
   "metadata": {},
   "outputs": [
    {
     "data": {
      "text/plain": [
       "array([[   25,  1310,  2620,   131,    12,    24],\n",
       "       [  200,  1000,  4000,     0,     1,     4],\n",
       "       [  330,  1000,  4000,     0,     3,     6],\n",
       "       [   30,  8000, 64000,    96,    12,   176],\n",
       "       [  800,   256,  8000,     0,     1,     4],\n",
       "       [   38,  8000, 32000,    64,     8,    24],\n",
       "       [  133,  1000,  8000,     9,     3,    12],\n",
       "       [  240,   512,  1000,     8,     1,     3],\n",
       "       [   23, 32000, 64000,   128,    32,    64],\n",
       "       [   50,  2000, 32000,    48,    26,    52],\n",
       "       [   50,  2000, 16000,    24,     6,    16],\n",
       "       [   52,  4000, 16000,    32,     4,    12],\n",
       "       [  125,  2000,  8000,     0,     2,    14],\n",
       "       [   50,  2000,  8000,     8,     3,     6],\n",
       "       [  200,   512, 16000,     0,     4,    32],\n",
       "       [  300,   768,  3000,     0,     6,    24],\n",
       "       [   38,  4000,  8000,    32,    16,    32],\n",
       "       [  143,  1000,  2000,     0,     5,    16],\n",
       "       [   38,  8000, 16000,    64,     4,     8],\n",
       "       [   57,  4000, 16000,     1,     6,    12],\n",
       "       [  300,   768, 12000,     6,     6,    24],\n",
       "       [  110,  1000, 12000,    16,     1,     2],\n",
       "       [   50,  4000, 16000,    64,     5,    10],\n",
       "       [  900,  1000,  4000,     4,     1,     2],\n",
       "       [  900,   512,  1000,     0,     1,     2],\n",
       "       [   92,  2000,  8000,     4,     1,     6],\n",
       "       [  320,   512,  2000,     4,     1,     3],\n",
       "       [   50,  2000,  4000,     0,     3,     6],\n",
       "       [  167,   524,  2000,     8,     4,    15],\n",
       "       [  200,  2000,  8000,    64,     1,     5],\n",
       "       [   26,  8000, 32000,    64,    12,    16],\n",
       "       [  105,  2000,  4000,     8,     3,    19],\n",
       "       [  115,   512,  6000,    16,     1,     6],\n",
       "       [  105,   256,  2000,     0,     3,    10],\n",
       "       [  600,   768,  2000,     0,     1,     1],\n",
       "       [  100,  1000,  8000,    24,     2,     6],\n",
       "       [  480,   512,  8000,    32,     0,     0],\n",
       "       [   26, 16000, 32000,    64,    16,    24],\n",
       "       [  300,  1000, 16000,     8,     2,   112],\n",
       "       [   56,  1000,  4000,     0,     1,     6],\n",
       "       [   50,  2000, 32000,   112,    52,   104]], dtype=int64)"
      ]
     },
     "execution_count": 6,
     "metadata": {},
     "output_type": "execute_result"
    }
   ],
   "source": [
    "train_dataset, test_dataset = train_test_split(cpu)\n",
    "test_dataset.X"
   ]
  },
  {
   "cell_type": "code",
   "execution_count": 13,
   "metadata": {},
   "outputs": [
    {
     "name": "stdout",
     "output_type": "stream",
     "text": [
      "The rmse of the model is: 15.028676292711582\n"
     ]
    }
   ],
   "source": [
    "cpu= read_csv(filename, sep=\",\",features=True,label=True)\n",
    "train_data, test_data = stratified_train_test_split(cpu, test_size=0.2, random_state=42)\n",
    "knn_regressor = KNNRegressor(k=3)  \n",
    "knn_regressor.fit(train_data)\n",
    "score = knn_regressor.score(test_data)\n",
    "print(f'The rmse of the model is: {score}')"
   ]
  }
 ],
 "metadata": {
  "kernelspec": {
   "display_name": "base",
   "language": "python",
   "name": "python3"
  },
  "language_info": {
   "codemirror_mode": {
    "name": "ipython",
    "version": 3
   },
   "file_extension": ".py",
   "mimetype": "text/x-python",
   "name": "python",
   "nbconvert_exporter": "python",
   "pygments_lexer": "ipython3",
   "version": "3.11.4"
  }
 },
 "nbformat": 4,
 "nbformat_minor": 2
}
