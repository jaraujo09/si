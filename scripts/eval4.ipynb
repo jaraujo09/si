{
 "cells": [
  {
   "cell_type": "markdown",
   "metadata": {},
   "source": [
    "### Avaliação 4"
   ]
  },
  {
   "cell_type": "markdown",
   "metadata": {},
   "source": [
    "#### ex. 6 - Stratified splitting"
   ]
  },
  {
   "cell_type": "code",
   "execution_count": 12,
   "metadata": {},
   "outputs": [],
   "source": [
    "from si.data.dataset import Dataset\n",
    "from si.io.csv_file import read_csv, write_csv\n",
    "from si.model_selection.split import stratified_train_test_split\n",
    "from collections import Counter"
   ]
  },
  {
   "cell_type": "code",
   "execution_count": 7,
   "metadata": {},
   "outputs": [],
   "source": [
    "filename = r\"C:\\Users\\Fofinha\\Desktop\\UNI\\MESTRADO\\2o ANO\\Sistemas Inteligentes\\si\\datasets\\iris\\iris.csv\""
   ]
  },
  {
   "cell_type": "code",
   "execution_count": 10,
   "metadata": {},
   "outputs": [
    {
     "data": {
      "text/plain": [
       "array(['Iris-setosa', 'Iris-versicolor', 'Iris-virginica'], dtype=object)"
      ]
     },
     "execution_count": 10,
     "metadata": {},
     "output_type": "execute_result"
    }
   ],
   "source": [
    "iris = read_csv(filename=filename, sep = \",\", features=True, label=True)\n",
    "iris.shape()  #150 linhas e 4 colunas\n",
    "iris.get_classes() #3 classes"
   ]
  },
  {
   "cell_type": "code",
   "execution_count": 15,
   "metadata": {},
   "outputs": [
    {
     "name": "stdout",
     "output_type": "stream",
     "text": [
      "Train data:  (120, 4)\n",
      "Test Data:  (30, 4)\n"
     ]
    }
   ],
   "source": [
    "train_data, test_data = stratified_train_test_split(iris, test_size=0.2, random_state=42)\n",
    "print('Train data: ', train_data.shape())\n",
    "print('Test Data: ', test_data.shape())  #150 * 0.2 = 30 parece-me bem"
   ]
  },
  {
   "cell_type": "markdown",
   "metadata": {},
   "source": [
    "#### ex. 7.3. KNNRegressor"
   ]
  },
  {
   "cell_type": "code",
   "execution_count": 16,
   "metadata": {},
   "outputs": [
    {
     "ename": "ModuleNotFoundError",
     "evalue": "No module named 'si.models.knn_regressor'",
     "output_type": "error",
     "traceback": [
      "\u001b[1;31m---------------------------------------------------------------------------\u001b[0m",
      "\u001b[1;31mModuleNotFoundError\u001b[0m                       Traceback (most recent call last)",
      "\u001b[1;32mc:\\Users\\Fofinha\\Desktop\\UNI\\MESTRADO\\2o ANO\\Sistemas Inteligentes\\si\\scripts\\eval4.ipynb Cell 8\u001b[0m line \u001b[0;36m1\n\u001b[1;32m----> <a href='vscode-notebook-cell:/c%3A/Users/Fofinha/Desktop/UNI/MESTRADO/2o%20ANO/Sistemas%20Inteligentes/si/scripts/eval4.ipynb#X12sZmlsZQ%3D%3D?line=0'>1</a>\u001b[0m \u001b[39mfrom\u001b[39;00m \u001b[39msi\u001b[39;00m\u001b[39m.\u001b[39;00m\u001b[39mmodels\u001b[39;00m\u001b[39m.\u001b[39;00m\u001b[39mknn_regressor\u001b[39;00m \u001b[39mimport\u001b[39;00m \u001b[39m*\u001b[39m\n\u001b[0;32m      <a href='vscode-notebook-cell:/c%3A/Users/Fofinha/Desktop/UNI/MESTRADO/2o%20ANO/Sistemas%20Inteligentes/si/scripts/eval4.ipynb#X12sZmlsZQ%3D%3D?line=2'>3</a>\u001b[0m cpu \u001b[39m=\u001b[39m \u001b[39mr\u001b[39m\u001b[39m\"\u001b[39m\u001b[39mC:\u001b[39m\u001b[39m\\\u001b[39m\u001b[39mUsers\u001b[39m\u001b[39m\\\u001b[39m\u001b[39mFofinha\u001b[39m\u001b[39m\\\u001b[39m\u001b[39mDesktop\u001b[39m\u001b[39m\\\u001b[39m\u001b[39mUNI\u001b[39m\u001b[39m\\\u001b[39m\u001b[39mMESTRADO\u001b[39m\u001b[39m\\\u001b[39m\u001b[39m2o ANO\u001b[39m\u001b[39m\\\u001b[39m\u001b[39mSistemas Inteligentes\u001b[39m\u001b[39m\\\u001b[39m\u001b[39msi\u001b[39m\u001b[39m\\\u001b[39m\u001b[39mdatasets\u001b[39m\u001b[39m\\\u001b[39m\u001b[39mcpu\u001b[39m\u001b[39m\\\u001b[39m\u001b[39mcpu.csv\u001b[39m\u001b[39m\"\u001b[39m\n",
      "\u001b[1;31mModuleNotFoundError\u001b[0m: No module named 'si.models.knn_regressor'"
     ]
    }
   ],
   "source": [
    "from si.models.knn_regressor import *\n",
    "\n",
    "cpu = r\"C:\\Users\\Fofinha\\Desktop\\UNI\\MESTRADO\\2o ANO\\Sistemas Inteligentes\\si\\datasets\\cpu\\cpu.csv\""
   ]
  }
 ],
 "metadata": {
  "kernelspec": {
   "display_name": "base",
   "language": "python",
   "name": "python3"
  },
  "language_info": {
   "codemirror_mode": {
    "name": "ipython",
    "version": 3
   },
   "file_extension": ".py",
   "mimetype": "text/x-python",
   "name": "python",
   "nbconvert_exporter": "python",
   "pygments_lexer": "ipython3",
   "version": "3.11.4"
  }
 },
 "nbformat": 4,
 "nbformat_minor": 2
}
