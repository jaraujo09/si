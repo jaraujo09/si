{
 "cells": [
  {
   "cell_type": "markdown",
   "metadata": {},
   "source": [
    "### Avaliação 4"
   ]
  },
  {
   "cell_type": "markdown",
   "metadata": {},
   "source": [
    "#### ex. 6 - Stratified splitting"
   ]
  },
  {
   "cell_type": "code",
   "execution_count": 1,
   "metadata": {},
   "outputs": [],
   "source": [
    "from si.data.dataset import Dataset\n",
    "from si.io.csv_file import read_csv, write_csv\n",
    "from si.model_selection.split import stratified_train_test_split, train_test_split\n",
    "from collections import Counter"
   ]
  },
  {
   "cell_type": "code",
   "execution_count": 7,
   "metadata": {},
   "outputs": [],
   "source": [
    "filename = r\"C:\\Users\\Fofinha\\Desktop\\UNI\\MESTRADO\\2o ANO\\Sistemas Inteligentes\\si\\datasets\\iris\\iris.csv\""
   ]
  },
  {
   "cell_type": "code",
   "execution_count": 10,
   "metadata": {},
   "outputs": [
    {
     "data": {
      "text/plain": [
       "array(['Iris-setosa', 'Iris-versicolor', 'Iris-virginica'], dtype=object)"
      ]
     },
     "execution_count": 10,
     "metadata": {},
     "output_type": "execute_result"
    }
   ],
   "source": [
    "iris = read_csv(filename=filename, sep = \",\", features=True, label=True)\n",
    "iris.shape()  #150 linhas e 4 colunas\n",
    "iris.get_classes() #3 classes"
   ]
  },
  {
   "cell_type": "code",
   "execution_count": 15,
   "metadata": {},
   "outputs": [
    {
     "name": "stdout",
     "output_type": "stream",
     "text": [
      "Train data:  (120, 4)\n",
      "Test Data:  (30, 4)\n"
     ]
    }
   ],
   "source": [
    "train_data, test_data = stratified_train_test_split(iris, test_size=0.2, random_state=42)\n",
    "print('Train data: ', train_data.shape())\n",
    "print('Test Data: ', test_data.shape())  #150 * 0.2 = 30 parece-me bem"
   ]
  },
  {
   "cell_type": "markdown",
   "metadata": {},
   "source": [
    "#### ex. 7.3. KNNRegressor"
   ]
  },
  {
   "cell_type": "code",
   "execution_count": 2,
   "metadata": {},
   "outputs": [
    {
     "name": "stdout",
     "output_type": "stream",
     "text": [
      "(209, 6)\n",
      "116\n"
     ]
    }
   ],
   "source": [
    "from si.models.knn_regressor import *\n",
    "\n",
    "filename = r\"C:\\Users\\Fofinha\\Desktop\\UNI\\MESTRADO\\2o ANO\\Sistemas Inteligentes\\si\\datasets\\cpu\\cpu.csv\"\n",
    "\n",
    "cpu = read_csv(filename=filename, sep = \",\", features=True, label=True)\n",
    "print(cpu.shape())\n",
    "print(len(cpu.get_classes()))"
   ]
  },
  {
   "cell_type": "code",
   "execution_count": 6,
   "metadata": {},
   "outputs": [
    {
     "ename": "AttributeError",
     "evalue": "'NoneType' object has no attribute 'X'",
     "output_type": "error",
     "traceback": [
      "\u001b[1;31m---------------------------------------------------------------------------\u001b[0m",
      "\u001b[1;31mAttributeError\u001b[0m                            Traceback (most recent call last)",
      "\u001b[1;32mc:\\Users\\Fofinha\\Desktop\\UNI\\MESTRADO\\2o ANO\\Sistemas Inteligentes\\si\\scripts\\eval4.ipynb Cell 9\u001b[0m line \u001b[0;36m1\n\u001b[0;32m      <a href='vscode-notebook-cell:/c%3A/Users/Fofinha/Desktop/UNI/MESTRADO/2o%20ANO/Sistemas%20Inteligentes/si/scripts/eval4.ipynb#X11sZmlsZQ%3D%3D?line=6'>7</a>\u001b[0m knn\u001b[39m.\u001b[39mfit(dataset_train)\n\u001b[0;32m      <a href='vscode-notebook-cell:/c%3A/Users/Fofinha/Desktop/UNI/MESTRADO/2o%20ANO/Sistemas%20Inteligentes/si/scripts/eval4.ipynb#X11sZmlsZQ%3D%3D?line=8'>9</a>\u001b[0m \u001b[39m# evaluate the model on the test dataset\u001b[39;00m\n\u001b[1;32m---> <a href='vscode-notebook-cell:/c%3A/Users/Fofinha/Desktop/UNI/MESTRADO/2o%20ANO/Sistemas%20Inteligentes/si/scripts/eval4.ipynb#X11sZmlsZQ%3D%3D?line=9'>10</a>\u001b[0m score \u001b[39m=\u001b[39m knn\u001b[39m.\u001b[39;49mscore(dataset_train)\n\u001b[0;32m     <a href='vscode-notebook-cell:/c%3A/Users/Fofinha/Desktop/UNI/MESTRADO/2o%20ANO/Sistemas%20Inteligentes/si/scripts/eval4.ipynb#X11sZmlsZQ%3D%3D?line=10'>11</a>\u001b[0m \u001b[39mprint\u001b[39m(\u001b[39mf\u001b[39m\u001b[39m'\u001b[39m\u001b[39mThe rmse of the model is: \u001b[39m\u001b[39m{\u001b[39;00mscore\u001b[39m}\u001b[39;00m\u001b[39m'\u001b[39m)\n",
      "File \u001b[1;32mc:\\Users\\Fofinha\\anaconda3\\Lib\\site-packages\\si-0.0.1-py3.11.egg\\si\\models\\knn_regressor.py:98\u001b[0m, in \u001b[0;36mKNNRegressor.score\u001b[1;34m(self, dataset)\u001b[0m\n\u001b[0;32m     84\u001b[0m \u001b[39mdef\u001b[39;00m \u001b[39mscore\u001b[39m(\u001b[39mself\u001b[39m, dataset: Dataset) \u001b[39m-\u001b[39m\u001b[39m>\u001b[39m \u001b[39mfloat\u001b[39m:\n\u001b[0;32m     85\u001b[0m \u001b[39m    \u001b[39m\u001b[39m\"\"\"\u001b[39;00m\n\u001b[0;32m     86\u001b[0m \u001b[39m    It returns the accuracy of the model on the given dataset\u001b[39;00m\n\u001b[0;32m     87\u001b[0m \n\u001b[1;32m   (...)\u001b[0m\n\u001b[0;32m     96\u001b[0m \u001b[39m        The accuracy of the model\u001b[39;00m\n\u001b[0;32m     97\u001b[0m \u001b[39m    \"\"\"\u001b[39;00m\n\u001b[1;32m---> 98\u001b[0m     predictions \u001b[39m=\u001b[39m \u001b[39mself\u001b[39;49m\u001b[39m.\u001b[39;49mpredict(dataset)\n\u001b[0;32m     99\u001b[0m     \u001b[39mreturn\u001b[39;00m rmse(dataset\u001b[39m.\u001b[39my, predictions)\n",
      "File \u001b[1;32mc:\\Users\\Fofinha\\anaconda3\\Lib\\site-packages\\si-0.0.1-py3.11.egg\\si\\models\\knn_regressor.py:80\u001b[0m, in \u001b[0;36mKNNRegressor.predict\u001b[1;34m(self, dataset)\u001b[0m\n\u001b[0;32m     66\u001b[0m \u001b[39mdef\u001b[39;00m \u001b[39mpredict\u001b[39m(\u001b[39mself\u001b[39m, dataset:Dataset)\u001b[39m-\u001b[39m\u001b[39m>\u001b[39mnp\u001b[39m.\u001b[39mndarray:\n\u001b[0;32m     67\u001b[0m \u001b[39m    \u001b[39m\u001b[39m\"\"\"\u001b[39;00m\n\u001b[0;32m     68\u001b[0m \u001b[39m    It predicts the classes of the given dataset\u001b[39;00m\n\u001b[0;32m     69\u001b[0m \n\u001b[1;32m   (...)\u001b[0m\n\u001b[0;32m     78\u001b[0m \u001b[39m        The predictions of the model\u001b[39;00m\n\u001b[0;32m     79\u001b[0m \u001b[39m    \"\"\"\u001b[39;00m\n\u001b[1;32m---> 80\u001b[0m     \u001b[39mreturn\u001b[39;00m np\u001b[39m.\u001b[39;49mapply_along_axis(\u001b[39mself\u001b[39;49m\u001b[39m.\u001b[39;49m_get_closest_label, axis \u001b[39m=\u001b[39;49m \u001b[39m1\u001b[39;49m, arr \u001b[39m=\u001b[39;49m dataset\u001b[39m.\u001b[39;49mX)\n",
      "File \u001b[1;32m<__array_function__ internals>:200\u001b[0m, in \u001b[0;36mapply_along_axis\u001b[1;34m(*args, **kwargs)\u001b[0m\n",
      "File \u001b[1;32mc:\\Users\\Fofinha\\anaconda3\\Lib\\site-packages\\numpy\\lib\\shape_base.py:379\u001b[0m, in \u001b[0;36mapply_along_axis\u001b[1;34m(func1d, axis, arr, *args, **kwargs)\u001b[0m\n\u001b[0;32m    375\u001b[0m \u001b[39mexcept\u001b[39;00m \u001b[39mStopIteration\u001b[39;00m \u001b[39mas\u001b[39;00m e:\n\u001b[0;32m    376\u001b[0m     \u001b[39mraise\u001b[39;00m \u001b[39mValueError\u001b[39;00m(\n\u001b[0;32m    377\u001b[0m         \u001b[39m'\u001b[39m\u001b[39mCannot apply_along_axis when any iteration dimensions are 0\u001b[39m\u001b[39m'\u001b[39m\n\u001b[0;32m    378\u001b[0m     ) \u001b[39mfrom\u001b[39;00m \u001b[39mNone\u001b[39;00m\n\u001b[1;32m--> 379\u001b[0m res \u001b[39m=\u001b[39m asanyarray(func1d(inarr_view[ind0], \u001b[39m*\u001b[39;49margs, \u001b[39m*\u001b[39;49m\u001b[39m*\u001b[39;49mkwargs))\n\u001b[0;32m    381\u001b[0m \u001b[39m# build a buffer for storing evaluations of func1d.\u001b[39;00m\n\u001b[0;32m    382\u001b[0m \u001b[39m# remove the requested axis, and add the new ones on the end.\u001b[39;00m\n\u001b[0;32m    383\u001b[0m \u001b[39m# laid out so that each write is contiguous.\u001b[39;00m\n\u001b[0;32m    384\u001b[0m \u001b[39m# for a tuple index inds, buff[inds] = func1d(inarr_view[inds])\u001b[39;00m\n\u001b[0;32m    385\u001b[0m buff \u001b[39m=\u001b[39m zeros(inarr_view\u001b[39m.\u001b[39mshape[:\u001b[39m-\u001b[39m\u001b[39m1\u001b[39m] \u001b[39m+\u001b[39m res\u001b[39m.\u001b[39mshape, res\u001b[39m.\u001b[39mdtype)\n",
      "File \u001b[1;32mc:\\Users\\Fofinha\\anaconda3\\Lib\\site-packages\\si-0.0.1-py3.11.egg\\si\\models\\knn_regressor.py:58\u001b[0m, in \u001b[0;36mKNNRegressor._get_closest_label\u001b[1;34m(self, sample)\u001b[0m\n\u001b[0;32m     44\u001b[0m \u001b[39mdef\u001b[39;00m \u001b[39m_get_closest_label\u001b[39m(\u001b[39mself\u001b[39m, sample: np\u001b[39m.\u001b[39mndarray) \u001b[39m-\u001b[39m\u001b[39m>\u001b[39m \u001b[39mfloat\u001b[39m:\n\u001b[0;32m     45\u001b[0m \u001b[39m    \u001b[39m\u001b[39m\"\"\"\u001b[39;00m\n\u001b[0;32m     46\u001b[0m \u001b[39m    It returns the closest label of the given sample\u001b[39;00m\n\u001b[0;32m     47\u001b[0m \n\u001b[1;32m   (...)\u001b[0m\n\u001b[0;32m     56\u001b[0m \u001b[39m        The closest label\u001b[39;00m\n\u001b[0;32m     57\u001b[0m \u001b[39m    \"\"\"\u001b[39;00m\n\u001b[1;32m---> 58\u001b[0m     distances \u001b[39m=\u001b[39m \u001b[39mself\u001b[39m\u001b[39m.\u001b[39mdistance(sample, \u001b[39mself\u001b[39;49m\u001b[39m.\u001b[39;49mtrain_dataset\u001b[39m.\u001b[39;49mX)   \u001b[39m#distance between each sample\u001b[39;00m\n\u001b[0;32m     59\u001b[0m     k_similar \u001b[39m=\u001b[39m np\u001b[39m.\u001b[39margsort(distances)[:\u001b[39mself\u001b[39m\u001b[39m.\u001b[39mk]    \u001b[39m#indexes of the k most similar examples in crescent order\u001b[39;00m\n\u001b[0;32m     60\u001b[0m     k_similar_values \u001b[39m=\u001b[39m \u001b[39mself\u001b[39m\u001b[39m.\u001b[39mtrain_dataset\u001b[39m.\u001b[39my[k_similar]  \n",
      "\u001b[1;31mAttributeError\u001b[0m: 'NoneType' object has no attribute 'X'"
     ]
    }
   ],
   "source": [
    "dataset_train, dataset_test = train_test_split(cpu, test_size=0.2)\n",
    "\n",
    "# initialize the KNN classifier\n",
    "knn = KNNRegressor(k=3)\n",
    "\n",
    "# fit the model to the train dataset\n",
    "knn.fit(dataset_train)\n",
    "\n",
    "# evaluate the model on the test dataset\n",
    "score = knn.score(dataset_test)\n",
    "print(f'The rmse of the model is: {score}')"
   ]
  }
 ],
 "metadata": {
  "kernelspec": {
   "display_name": "base",
   "language": "python",
   "name": "python3"
  },
  "language_info": {
   "codemirror_mode": {
    "name": "ipython",
    "version": 3
   },
   "file_extension": ".py",
   "mimetype": "text/x-python",
   "name": "python",
   "nbconvert_exporter": "python",
   "pygments_lexer": "ipython3",
   "version": "3.11.4"
  }
 },
 "nbformat": 4,
 "nbformat_minor": 2
}
