{
 "cells": [
  {
   "cell_type": "markdown",
   "metadata": {},
   "source": [
    "### Avaliação 4"
   ]
  },
  {
   "cell_type": "markdown",
   "metadata": {},
   "source": [
    "#### ex. 6 - Stratified splitting"
   ]
  },
  {
   "cell_type": "code",
   "execution_count": 1,
   "metadata": {},
   "outputs": [],
   "source": [
    "from si.data.dataset import Dataset\n",
    "from si.io.csv_file import read_csv, write_csv\n",
    "from si.model_selection.split import stratified_train_test_split, train_test_split\n",
    "from collections import Counter"
   ]
  },
  {
   "cell_type": "code",
   "execution_count": 2,
   "metadata": {},
   "outputs": [],
   "source": [
    "filename = r\"C:\\Users\\Fofinha\\Desktop\\UNI\\MESTRADO\\2o ANO\\Sistemas Inteligentes\\si\\datasets\\iris\\iris.csv\""
   ]
  },
  {
   "cell_type": "code",
   "execution_count": 3,
   "metadata": {},
   "outputs": [
    {
     "data": {
      "text/plain": [
       "array(['Iris-setosa', 'Iris-versicolor', 'Iris-virginica'], dtype=object)"
      ]
     },
     "execution_count": 3,
     "metadata": {},
     "output_type": "execute_result"
    }
   ],
   "source": [
    "iris = read_csv(filename=filename, sep = \",\", features=True, label=True)\n",
    "iris.shape()  #150 linhas e 4 colunas\n",
    "iris.get_classes() #3 classes"
   ]
  },
  {
   "cell_type": "code",
   "execution_count": 4,
   "metadata": {},
   "outputs": [
    {
     "name": "stdout",
     "output_type": "stream",
     "text": [
      "Train data:  (120, 4)\n",
      "Test Data:  (30, 4)\n"
     ]
    }
   ],
   "source": [
    "train_data, test_data = stratified_train_test_split(iris, test_size=0.2, random_state=42)\n",
    "print('Train data: ', train_data.shape())\n",
    "print('Test Data: ', test_data.shape())  #150 * 0.2 = 30 parece-me bem"
   ]
  },
  {
   "cell_type": "markdown",
   "metadata": {},
   "source": [
    "#### ex. 7.3. KNNRegressor"
   ]
  },
  {
   "cell_type": "code",
   "execution_count": 12,
   "metadata": {},
   "outputs": [
    {
     "name": "stdout",
     "output_type": "stream",
     "text": [
      "(209, 6)\n",
      "116\n"
     ]
    }
   ],
   "source": [
    "from si.models.knn_regressor import *\n",
    "\n",
    "filename = r\"C:\\Users\\Fofinha\\Desktop\\UNI\\MESTRADO\\2o ANO\\Sistemas Inteligentes\\si\\datasets\\cpu\\cpu.csv\"\n",
    "\n",
    "cpu = read_csv(filename=filename, sep = \",\", features=True, label=True)\n",
    "print(cpu.shape())\n",
    "print(len(cpu.get_classes()))"
   ]
  },
  {
   "cell_type": "code",
   "execution_count": 13,
   "metadata": {},
   "outputs": [
    {
     "data": {
      "text/plain": [
       "array([[   25,  1310,  2620,   131,    12,    24],\n",
       "       [  200,  1000,  4000,     0,     1,     4],\n",
       "       [  330,  1000,  4000,     0,     3,     6],\n",
       "       [   30,  8000, 64000,    96,    12,   176],\n",
       "       [  800,   256,  8000,     0,     1,     4],\n",
       "       [   38,  8000, 32000,    64,     8,    24],\n",
       "       [  133,  1000,  8000,     9,     3,    12],\n",
       "       [  240,   512,  1000,     8,     1,     3],\n",
       "       [   23, 32000, 64000,   128,    32,    64],\n",
       "       [   50,  2000, 32000,    48,    26,    52],\n",
       "       [   50,  2000, 16000,    24,     6,    16],\n",
       "       [   52,  4000, 16000,    32,     4,    12],\n",
       "       [  125,  2000,  8000,     0,     2,    14],\n",
       "       [   50,  2000,  8000,     8,     3,     6],\n",
       "       [  200,   512, 16000,     0,     4,    32],\n",
       "       [  300,   768,  3000,     0,     6,    24],\n",
       "       [   38,  4000,  8000,    32,    16,    32],\n",
       "       [  143,  1000,  2000,     0,     5,    16],\n",
       "       [   38,  8000, 16000,    64,     4,     8],\n",
       "       [   57,  4000, 16000,     1,     6,    12],\n",
       "       [  300,   768, 12000,     6,     6,    24],\n",
       "       [  110,  1000, 12000,    16,     1,     2],\n",
       "       [   50,  4000, 16000,    64,     5,    10],\n",
       "       [  900,  1000,  4000,     4,     1,     2],\n",
       "       [  900,   512,  1000,     0,     1,     2],\n",
       "       [   92,  2000,  8000,     4,     1,     6],\n",
       "       [  320,   512,  2000,     4,     1,     3],\n",
       "       [   50,  2000,  4000,     0,     3,     6],\n",
       "       [  167,   524,  2000,     8,     4,    15],\n",
       "       [  200,  2000,  8000,    64,     1,     5],\n",
       "       [   26,  8000, 32000,    64,    12,    16],\n",
       "       [  105,  2000,  4000,     8,     3,    19],\n",
       "       [  115,   512,  6000,    16,     1,     6],\n",
       "       [  105,   256,  2000,     0,     3,    10],\n",
       "       [  600,   768,  2000,     0,     1,     1],\n",
       "       [  100,  1000,  8000,    24,     2,     6],\n",
       "       [  480,   512,  8000,    32,     0,     0],\n",
       "       [   26, 16000, 32000,    64,    16,    24],\n",
       "       [  300,  1000, 16000,     8,     2,   112],\n",
       "       [   56,  1000,  4000,     0,     1,     6],\n",
       "       [   50,  2000, 32000,   112,    52,   104]], dtype=int64)"
      ]
     },
     "execution_count": 13,
     "metadata": {},
     "output_type": "execute_result"
    }
   ],
   "source": [
    "train_dataset, test_dataset = train_test_split(cpu)\n",
    "test_dataset.X"
   ]
  },
  {
   "cell_type": "code",
   "execution_count": 15,
   "metadata": {},
   "outputs": [
    {
     "ename": "AttributeError",
     "evalue": "'NoneType' object has no attribute 'X'",
     "output_type": "error",
     "traceback": [
      "\u001b[1;31m---------------------------------------------------------------------------\u001b[0m",
      "\u001b[1;31mAttributeError\u001b[0m                            Traceback (most recent call last)",
      "\u001b[1;32mc:\\Users\\Fofinha\\Desktop\\UNI\\MESTRADO\\2o ANO\\Sistemas Inteligentes\\si\\scripts\\eval4.ipynb Cell 10\u001b[0m line \u001b[0;36m4\n\u001b[0;32m      <a href='vscode-notebook-cell:/c%3A/Users/Fofinha/Desktop/UNI/MESTRADO/2o%20ANO/Sistemas%20Inteligentes/si/scripts/eval4.ipynb#X13sZmlsZQ%3D%3D?line=1'>2</a>\u001b[0m kmeans \u001b[39m=\u001b[39m KNNRegressor(k)\n\u001b[0;32m      <a href='vscode-notebook-cell:/c%3A/Users/Fofinha/Desktop/UNI/MESTRADO/2o%20ANO/Sistemas%20Inteligentes/si/scripts/eval4.ipynb#X13sZmlsZQ%3D%3D?line=2'>3</a>\u001b[0m kmeans\u001b[39m.\u001b[39mfit(train_dataset)\n\u001b[1;32m----> <a href='vscode-notebook-cell:/c%3A/Users/Fofinha/Desktop/UNI/MESTRADO/2o%20ANO/Sistemas%20Inteligentes/si/scripts/eval4.ipynb#X13sZmlsZQ%3D%3D?line=3'>4</a>\u001b[0m predictions \u001b[39m=\u001b[39m kmeans\u001b[39m.\u001b[39;49mpredict(test_dataset)\n\u001b[0;32m      <a href='vscode-notebook-cell:/c%3A/Users/Fofinha/Desktop/UNI/MESTRADO/2o%20ANO/Sistemas%20Inteligentes/si/scripts/eval4.ipynb#X13sZmlsZQ%3D%3D?line=4'>5</a>\u001b[0m predictions\n",
      "File \u001b[1;32mc:\\Users\\Fofinha\\anaconda3\\Lib\\site-packages\\si-0.0.1-py3.11.egg\\si\\models\\knn_regressor.py:80\u001b[0m, in \u001b[0;36mKNNRegressor.predict\u001b[1;34m(self, dataset)\u001b[0m\n\u001b[0;32m     66\u001b[0m \u001b[39mdef\u001b[39;00m \u001b[39mpredict\u001b[39m(\u001b[39mself\u001b[39m, dataset:Dataset)\u001b[39m-\u001b[39m\u001b[39m>\u001b[39mnp\u001b[39m.\u001b[39mndarray:\n\u001b[0;32m     67\u001b[0m \u001b[39m    \u001b[39m\u001b[39m\"\"\"\u001b[39;00m\n\u001b[0;32m     68\u001b[0m \u001b[39m    It predicts the classes of the given dataset\u001b[39;00m\n\u001b[0;32m     69\u001b[0m \n\u001b[1;32m   (...)\u001b[0m\n\u001b[0;32m     78\u001b[0m \u001b[39m        The predictions of the model\u001b[39;00m\n\u001b[0;32m     79\u001b[0m \u001b[39m    \"\"\"\u001b[39;00m\n\u001b[1;32m---> 80\u001b[0m     \u001b[39mreturn\u001b[39;00m np\u001b[39m.\u001b[39;49mapply_along_axis(\u001b[39mself\u001b[39;49m\u001b[39m.\u001b[39;49m_get_closest_label, axis \u001b[39m=\u001b[39;49m \u001b[39m1\u001b[39;49m, arr \u001b[39m=\u001b[39;49m dataset\u001b[39m.\u001b[39;49mX)\n",
      "File \u001b[1;32m<__array_function__ internals>:200\u001b[0m, in \u001b[0;36mapply_along_axis\u001b[1;34m(*args, **kwargs)\u001b[0m\n",
      "File \u001b[1;32mc:\\Users\\Fofinha\\anaconda3\\Lib\\site-packages\\numpy\\lib\\shape_base.py:379\u001b[0m, in \u001b[0;36mapply_along_axis\u001b[1;34m(func1d, axis, arr, *args, **kwargs)\u001b[0m\n\u001b[0;32m    375\u001b[0m \u001b[39mexcept\u001b[39;00m \u001b[39mStopIteration\u001b[39;00m \u001b[39mas\u001b[39;00m e:\n\u001b[0;32m    376\u001b[0m     \u001b[39mraise\u001b[39;00m \u001b[39mValueError\u001b[39;00m(\n\u001b[0;32m    377\u001b[0m         \u001b[39m'\u001b[39m\u001b[39mCannot apply_along_axis when any iteration dimensions are 0\u001b[39m\u001b[39m'\u001b[39m\n\u001b[0;32m    378\u001b[0m     ) \u001b[39mfrom\u001b[39;00m \u001b[39mNone\u001b[39;00m\n\u001b[1;32m--> 379\u001b[0m res \u001b[39m=\u001b[39m asanyarray(func1d(inarr_view[ind0], \u001b[39m*\u001b[39;49margs, \u001b[39m*\u001b[39;49m\u001b[39m*\u001b[39;49mkwargs))\n\u001b[0;32m    381\u001b[0m \u001b[39m# build a buffer for storing evaluations of func1d.\u001b[39;00m\n\u001b[0;32m    382\u001b[0m \u001b[39m# remove the requested axis, and add the new ones on the end.\u001b[39;00m\n\u001b[0;32m    383\u001b[0m \u001b[39m# laid out so that each write is contiguous.\u001b[39;00m\n\u001b[0;32m    384\u001b[0m \u001b[39m# for a tuple index inds, buff[inds] = func1d(inarr_view[inds])\u001b[39;00m\n\u001b[0;32m    385\u001b[0m buff \u001b[39m=\u001b[39m zeros(inarr_view\u001b[39m.\u001b[39mshape[:\u001b[39m-\u001b[39m\u001b[39m1\u001b[39m] \u001b[39m+\u001b[39m res\u001b[39m.\u001b[39mshape, res\u001b[39m.\u001b[39mdtype)\n",
      "File \u001b[1;32mc:\\Users\\Fofinha\\anaconda3\\Lib\\site-packages\\si-0.0.1-py3.11.egg\\si\\models\\knn_regressor.py:58\u001b[0m, in \u001b[0;36mKNNRegressor._get_closest_label\u001b[1;34m(self, sample)\u001b[0m\n\u001b[0;32m     44\u001b[0m \u001b[39mdef\u001b[39;00m \u001b[39m_get_closest_label\u001b[39m(\u001b[39mself\u001b[39m, sample: np\u001b[39m.\u001b[39mndarray) \u001b[39m-\u001b[39m\u001b[39m>\u001b[39m \u001b[39mfloat\u001b[39m:\n\u001b[0;32m     45\u001b[0m \u001b[39m    \u001b[39m\u001b[39m\"\"\"\u001b[39;00m\n\u001b[0;32m     46\u001b[0m \u001b[39m    It returns the closest label of the given sample\u001b[39;00m\n\u001b[0;32m     47\u001b[0m \n\u001b[1;32m   (...)\u001b[0m\n\u001b[0;32m     56\u001b[0m \u001b[39m        The closest label\u001b[39;00m\n\u001b[0;32m     57\u001b[0m \u001b[39m    \"\"\"\u001b[39;00m\n\u001b[1;32m---> 58\u001b[0m     distances \u001b[39m=\u001b[39m \u001b[39mself\u001b[39m\u001b[39m.\u001b[39mdistance(sample, \u001b[39mself\u001b[39;49m\u001b[39m.\u001b[39;49mtrain_dataset\u001b[39m.\u001b[39;49mX)   \u001b[39m#distance between each sample\u001b[39;00m\n\u001b[0;32m     59\u001b[0m     k_similar \u001b[39m=\u001b[39m np\u001b[39m.\u001b[39margsort(distances)[:\u001b[39mself\u001b[39m\u001b[39m.\u001b[39mk]    \u001b[39m#indexes of the k most similar examples in crescent order\u001b[39;00m\n\u001b[0;32m     60\u001b[0m     k_similar_values \u001b[39m=\u001b[39m \u001b[39mself\u001b[39m\u001b[39m.\u001b[39mtrain_dataset\u001b[39m.\u001b[39my[k_similar]  \n",
      "\u001b[1;31mAttributeError\u001b[0m: 'NoneType' object has no attribute 'X'"
     ]
    }
   ],
   "source": [
    "k = 2\n",
    "kmeans = KNNRegressor(k)\n",
    "kmeans.fit(train_dataset)\n",
    "predictions = kmeans.predict(test_dataset)\n",
    "predictions"
   ]
  }
 ],
 "metadata": {
  "kernelspec": {
   "display_name": "base",
   "language": "python",
   "name": "python3"
  },
  "language_info": {
   "codemirror_mode": {
    "name": "ipython",
    "version": 3
   },
   "file_extension": ".py",
   "mimetype": "text/x-python",
   "name": "python",
   "nbconvert_exporter": "python",
   "pygments_lexer": "ipython3",
   "version": "3.11.4"
  }
 },
 "nbformat": 4,
 "nbformat_minor": 2
}
