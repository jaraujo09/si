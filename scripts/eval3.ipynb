{
 "cells": [
  {
   "cell_type": "markdown",
   "metadata": {},
   "source": [
    "### Avaliação 3 - Testing Functions PCA "
   ]
  },
  {
   "cell_type": "code",
   "execution_count": 8,
   "metadata": {},
   "outputs": [
    {
     "name": "stdout",
     "output_type": "stream",
     "text": [
      "[[ 0.36158968 -0.08226889  0.85657211  0.35884393]\n",
      " [-0.65653988 -0.72971237  0.1757674   0.07470647]\n",
      " [ 0.58099728 -0.59641809 -0.07252408 -0.54906091]\n",
      " [ 0.31725455 -0.32409435 -0.47971899  0.75112056]]\n"
     ]
    }
   ],
   "source": [
    "from si.decomposition.pca import PCA\n",
    "import numpy as np\n",
    "from si.data.dataset import Dataset\n",
    "from si.io.csv_file import read_csv\n",
    "\n",
    "filename = 'C:\\\\Users\\\\Fofinha\\\\Desktop\\\\UNI\\\\MESTRADO\\\\2o ANO\\\\Sistemas Inteligentes\\\\si\\\\datasets\\\\iris\\\\iris.csv'\n",
    "\n",
    "ds = read_csv(filename, sep = ',', features = True, label = True)\n",
    "\n",
    "selector = PCA(n_components=4)\n",
    "selector.fit_transform(ds)\n",
    "print(selector.components)"
   ]
  },
  {
   "cell_type": "code",
   "execution_count": 3,
   "metadata": {},
   "outputs": [
    {
     "data": {
      "text/plain": [
       "array([5.84333333, 3.054     , 3.75866667, 1.19866667])"
      ]
     },
     "execution_count": 3,
     "metadata": {},
     "output_type": "execute_result"
    }
   ],
   "source": [
    "selector.mean"
   ]
  }
 ],
 "metadata": {
  "kernelspec": {
   "display_name": "base",
   "language": "python",
   "name": "python3"
  },
  "language_info": {
   "codemirror_mode": {
    "name": "ipython",
    "version": 3
   },
   "file_extension": ".py",
   "mimetype": "text/x-python",
   "name": "python",
   "nbconvert_exporter": "python",
   "pygments_lexer": "ipython3",
   "version": "3.11.4"
  },
  "orig_nbformat": 4
 },
 "nbformat": 4,
 "nbformat_minor": 2
}
