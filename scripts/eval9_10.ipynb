{
 "cells": [
  {
   "cell_type": "markdown",
   "metadata": {},
   "source": [
    "### Avaliação aula 9 e 10"
   ]
  },
  {
   "cell_type": "code",
   "execution_count": 10,
   "metadata": {},
   "outputs": [],
   "source": [
    "from si.data.dataset import Dataset\n",
    "from si.neural_networks.layers import Layer, DenseLayer\n",
    "from si.neural_networks.dropout import Dropout\n",
    "from si.neural_networks.neural_network import NeuralNetwork\n",
    "from si.neural_networks.optimizers import SGD\n",
    "from si.neural_networks.activation import ReLUActivation,SigmoidActivation\n",
    "from si.neural_networks.losses import MeanSquaredError, BinaryCrossEntropy\n",
    "from si.model_selection.split import stratified_train_test_split\n",
    "from si.metrics.mse import mse\n",
    "from si.metrics.accuracy import accuracy\n",
    "from si.io.csv_file import read_csv\n",
    "import numpy as np"
   ]
  },
  {
   "cell_type": "code",
   "execution_count": 9,
   "metadata": {},
   "outputs": [
    {
     "name": "stdout",
     "output_type": "stream",
     "text": [
      "(160, 32)\n"
     ]
    }
   ],
   "source": [
    "# creating dataset\n",
    "np.random.seed(42)\n",
    "X = np.random.randn(160, 32) \n",
    "y = np.random.randint(2, size=(160, 1))\n",
    "dataset=Dataset(X=X,y=y)\n",
    "\n",
    "print(dataset.shape())"
   ]
  },
  {
   "cell_type": "code",
   "execution_count": 11,
   "metadata": {},
   "outputs": [],
   "source": [
    "# splitting\n",
    "train_dl,test_dl = stratified_train_test_split(dataset, test_size=0.3, random_state=42)"
   ]
  },
  {
   "cell_type": "code",
   "execution_count": 12,
   "metadata": {},
   "outputs": [
    {
     "data": {
      "text/plain": [
       "<si.neural_networks.neural_network.NeuralNetwork at 0x187ebab9a90>"
      ]
     },
     "execution_count": 12,
     "metadata": {},
     "output_type": "execute_result"
    }
   ],
   "source": [
    "# creating network\n",
    "model_dl =NeuralNetwork(epochs=100, batch_size=16, optimizer=SGD, learning_rate=0.01, verbose=True, loss=BinaryCrossEntropy, metric=accuracy)\n",
    "n_features = X.shape[1]\n",
    "model_dl.add(DenseLayer(32, (n_features,)))\n",
    "model_dl.add(ReLUActivation())\n",
    "model_dl.add(DenseLayer(16))\n",
    "model_dl.add(ReLUActivation())\n",
    "model_dl.add(DenseLayer(1))\n",
    "model_dl.add(SigmoidActivation())"
   ]
  },
  {
   "cell_type": "code",
   "execution_count": 13,
   "metadata": {},
   "outputs": [
    {
     "name": "stdout",
     "output_type": "stream",
     "text": [
      "Epoch 1/100 - loss: 100.8786 - accuracy: 0.4107\n",
      "Epoch 2/100 - loss: 78.4814 - accuracy: 0.5982\n",
      "Epoch 3/100 - loss: 76.1426 - accuracy: 0.6161\n",
      "Epoch 4/100 - loss: 67.5308 - accuracy: 0.7143\n",
      "Epoch 5/100 - loss: 63.0308 - accuracy: 0.7232\n",
      "Epoch 6/100 - loss: 58.9098 - accuracy: 0.7411\n",
      "Epoch 7/100 - loss: 52.8692 - accuracy: 0.7768\n",
      "Epoch 8/100 - loss: 46.5117 - accuracy: 0.8304\n",
      "Epoch 9/100 - loss: 40.1263 - accuracy: 0.8750\n",
      "Epoch 10/100 - loss: 33.5925 - accuracy: 0.9196\n",
      "Epoch 11/100 - loss: 28.3554 - accuracy: 0.9375\n",
      "Epoch 12/100 - loss: 23.4736 - accuracy: 0.9375\n",
      "Epoch 13/100 - loss: 19.1068 - accuracy: 0.9911\n",
      "Epoch 14/100 - loss: 16.2345 - accuracy: 0.9911\n",
      "Epoch 15/100 - loss: 13.4786 - accuracy: 0.9911\n",
      "Epoch 16/100 - loss: 10.6058 - accuracy: 0.9911\n",
      "Epoch 17/100 - loss: 8.6481 - accuracy: 0.9911\n",
      "Epoch 18/100 - loss: 7.2498 - accuracy: 0.9911\n",
      "Epoch 19/100 - loss: 6.1062 - accuracy: 1.0000\n",
      "Epoch 20/100 - loss: 5.2581 - accuracy: 1.0000\n",
      "Epoch 21/100 - loss: 4.4558 - accuracy: 1.0000\n",
      "Epoch 22/100 - loss: 3.9536 - accuracy: 1.0000\n",
      "Epoch 23/100 - loss: 3.4696 - accuracy: 1.0000\n",
      "Epoch 24/100 - loss: 3.1215 - accuracy: 1.0000\n",
      "Epoch 25/100 - loss: 2.8114 - accuracy: 1.0000\n",
      "Epoch 26/100 - loss: 2.4832 - accuracy: 1.0000\n",
      "Epoch 27/100 - loss: 2.2659 - accuracy: 1.0000\n",
      "Epoch 28/100 - loss: 2.0244 - accuracy: 1.0000\n",
      "Epoch 29/100 - loss: 1.8496 - accuracy: 1.0000\n",
      "Epoch 30/100 - loss: 1.6648 - accuracy: 1.0000\n",
      "Epoch 31/100 - loss: 1.5298 - accuracy: 1.0000\n",
      "Epoch 32/100 - loss: 1.4256 - accuracy: 1.0000\n",
      "Epoch 33/100 - loss: 1.2179 - accuracy: 1.0000\n",
      "Epoch 34/100 - loss: 1.2355 - accuracy: 1.0000\n",
      "Epoch 35/100 - loss: 1.1554 - accuracy: 1.0000\n",
      "Epoch 36/100 - loss: 1.0896 - accuracy: 1.0000\n",
      "Epoch 37/100 - loss: 0.9972 - accuracy: 1.0000\n",
      "Epoch 38/100 - loss: 0.9565 - accuracy: 1.0000\n",
      "Epoch 39/100 - loss: 0.8825 - accuracy: 1.0000\n",
      "Epoch 40/100 - loss: 0.8493 - accuracy: 1.0000\n",
      "Epoch 41/100 - loss: 0.8054 - accuracy: 1.0000\n",
      "Epoch 42/100 - loss: 0.7651 - accuracy: 1.0000\n",
      "Epoch 43/100 - loss: 0.7182 - accuracy: 1.0000\n",
      "Epoch 44/100 - loss: 0.6914 - accuracy: 1.0000\n",
      "Epoch 45/100 - loss: 0.6692 - accuracy: 1.0000\n",
      "Epoch 46/100 - loss: 0.6388 - accuracy: 1.0000\n",
      "Epoch 47/100 - loss: 0.6131 - accuracy: 1.0000\n",
      "Epoch 48/100 - loss: 0.5874 - accuracy: 1.0000\n",
      "Epoch 49/100 - loss: 0.5532 - accuracy: 1.0000\n",
      "Epoch 50/100 - loss: 0.5417 - accuracy: 1.0000\n",
      "Epoch 51/100 - loss: 0.5229 - accuracy: 1.0000\n",
      "Epoch 52/100 - loss: 0.5049 - accuracy: 1.0000\n",
      "Epoch 53/100 - loss: 0.4854 - accuracy: 1.0000\n",
      "Epoch 54/100 - loss: 0.4684 - accuracy: 1.0000\n",
      "Epoch 55/100 - loss: 0.4485 - accuracy: 1.0000\n",
      "Epoch 56/100 - loss: 0.4377 - accuracy: 1.0000\n",
      "Epoch 57/100 - loss: 0.4243 - accuracy: 1.0000\n",
      "Epoch 58/100 - loss: 0.4088 - accuracy: 1.0000\n",
      "Epoch 59/100 - loss: 0.3909 - accuracy: 1.0000\n",
      "Epoch 60/100 - loss: 0.3852 - accuracy: 1.0000\n",
      "Epoch 61/100 - loss: 0.3671 - accuracy: 1.0000\n",
      "Epoch 62/100 - loss: 0.3674 - accuracy: 1.0000\n",
      "Epoch 63/100 - loss: 0.3358 - accuracy: 1.0000\n",
      "Epoch 64/100 - loss: 0.3447 - accuracy: 1.0000\n",
      "Epoch 65/100 - loss: 0.3369 - accuracy: 1.0000\n",
      "Epoch 66/100 - loss: 0.3291 - accuracy: 1.0000\n",
      "Epoch 67/100 - loss: 0.3196 - accuracy: 1.0000\n",
      "Epoch 68/100 - loss: 0.3127 - accuracy: 1.0000\n",
      "Epoch 69/100 - loss: 0.3035 - accuracy: 1.0000\n",
      "Epoch 70/100 - loss: 0.2970 - accuracy: 1.0000\n",
      "Epoch 71/100 - loss: 0.2773 - accuracy: 1.0000\n",
      "Epoch 72/100 - loss: 0.2810 - accuracy: 1.0000\n",
      "Epoch 73/100 - loss: 0.2771 - accuracy: 1.0000\n",
      "Epoch 74/100 - loss: 0.2686 - accuracy: 1.0000\n",
      "Epoch 75/100 - loss: 0.2653 - accuracy: 1.0000\n",
      "Epoch 76/100 - loss: 0.2582 - accuracy: 1.0000\n",
      "Epoch 77/100 - loss: 0.2487 - accuracy: 1.0000\n",
      "Epoch 78/100 - loss: 0.2345 - accuracy: 1.0000\n",
      "Epoch 79/100 - loss: 0.2423 - accuracy: 1.0000\n",
      "Epoch 80/100 - loss: 0.2356 - accuracy: 1.0000\n",
      "Epoch 81/100 - loss: 0.2320 - accuracy: 1.0000\n",
      "Epoch 82/100 - loss: 0.2265 - accuracy: 1.0000\n",
      "Epoch 83/100 - loss: 0.2198 - accuracy: 1.0000\n",
      "Epoch 84/100 - loss: 0.2179 - accuracy: 1.0000\n",
      "Epoch 85/100 - loss: 0.2116 - accuracy: 1.0000\n",
      "Epoch 86/100 - loss: 0.2094 - accuracy: 1.0000\n",
      "Epoch 87/100 - loss: 0.2049 - accuracy: 1.0000\n",
      "Epoch 88/100 - loss: 0.2003 - accuracy: 1.0000\n",
      "Epoch 89/100 - loss: 0.1982 - accuracy: 1.0000\n",
      "Epoch 90/100 - loss: 0.1944 - accuracy: 1.0000\n",
      "Epoch 91/100 - loss: 0.1886 - accuracy: 1.0000\n",
      "Epoch 92/100 - loss: 0.1851 - accuracy: 1.0000\n",
      "Epoch 93/100 - loss: 0.1795 - accuracy: 1.0000\n",
      "Epoch 94/100 - loss: 0.1802 - accuracy: 1.0000\n",
      "Epoch 95/100 - loss: 0.1780 - accuracy: 1.0000\n",
      "Epoch 96/100 - loss: 0.1751 - accuracy: 1.0000\n",
      "Epoch 97/100 - loss: 0.1722 - accuracy: 1.0000\n",
      "Epoch 98/100 - loss: 0.1689 - accuracy: 1.0000\n",
      "Epoch 99/100 - loss: 0.1609 - accuracy: 1.0000\n",
      "Epoch 100/100 - loss: 0.1594 - accuracy: 1.0000\n"
     ]
    },
    {
     "data": {
      "text/plain": [
       "<si.neural_networks.neural_network.NeuralNetwork at 0x187ebab9a90>"
      ]
     },
     "execution_count": 13,
     "metadata": {},
     "output_type": "execute_result"
    }
   ],
   "source": [
    "# train model\n",
    "model_dl.fit(train_dl)"
   ]
  },
  {
   "cell_type": "code",
   "execution_count": 18,
   "metadata": {},
   "outputs": [
    {
     "name": "stdout",
     "output_type": "stream",
     "text": [
      "Deep Learning result: 0.617\n"
     ]
    }
   ],
   "source": [
    "# testing\n",
    "result_dl=model_dl.score(test_dl)\n",
    "print(f\"Deep Learning result: {result_dl:0.3}\")"
   ]
  }
 ],
 "metadata": {
  "kernelspec": {
   "display_name": "base",
   "language": "python",
   "name": "python3"
  },
  "language_info": {
   "codemirror_mode": {
    "name": "ipython",
    "version": 3
   },
   "file_extension": ".py",
   "mimetype": "text/x-python",
   "name": "python",
   "nbconvert_exporter": "python",
   "pygments_lexer": "ipython3",
   "version": "3.11.4"
  }
 },
 "nbformat": 4,
 "nbformat_minor": 2
}
