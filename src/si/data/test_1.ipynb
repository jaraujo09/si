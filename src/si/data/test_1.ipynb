{
 "cells": [
  {
   "cell_type": "markdown",
   "metadata": {},
   "source": [
    "## Testing Dataset functions"
   ]
  },
  {
   "cell_type": "code",
   "execution_count": 1,
   "metadata": {},
   "outputs": [],
   "source": [
    "from dataset import Dataset\n",
    "import numpy as np"
   ]
  },
  {
   "cell_type": "code",
   "execution_count": null,
   "metadata": {},
   "outputs": [
    {
     "name": "stdout",
     "output_type": "stream",
     "text": [
      "Dataset 1: \n",
      " [[1 2 3]\n",
      " [3 1 3]]\n",
      "Dataset 2:\n",
      " [[ 1.  2.  3.]\n",
      " [ 3. nan  7.]]\n",
      "Dataset 2 after dropna()):\n",
      " [[1. 2. 3.]]\n"
     ]
    }
   ],
   "source": [
    "#dropna()\n",
    "x = np.array([[1, 2, 3], [3, 1, 3]])\n",
    "y = np.array([5, 5])\n",
    "features = ['X', 'Y', 'Z']\n",
    "label = 'x'\n",
    "dataset = Dataset(x, y, features, label)\n",
    "dataset = dataset.dropna()  #não tem NA, só para o teste\n",
    "print('Dataset 1: \\n', dataset.X)\n",
    "\n",
    "x2 = np.array([[1, 2, 3], [3, np.nan, 7]])\n",
    "dataset2 = Dataset(x2, y, features, label)  #dataset com NA, compara results\n",
    "print('Dataset 2:\\n', dataset2.X)\n",
    "dataset2.dropna()\n",
    "print('Dataset 2 after dropna()):\\n', dataset2.X)"
   ]
  },
  {
   "cell_type": "code",
   "execution_count": 14,
   "metadata": {},
   "outputs": [
    {
     "name": "stdout",
     "output_type": "stream",
     "text": [
      "[[ 1.  2.  3.]\n",
      " [ 4. nan  6.]\n",
      " [ 7.  8.  9.]]\n"
     ]
    },
    {
     "name": "stderr",
     "output_type": "stream",
     "text": [
      "c:\\Users\\Fofinha\\anaconda3\\Lib\\site-packages\\si-0.0.1-py3.11.egg\\si\\data\\dataset.py:162: RuntimeWarning: Mean of empty slice\n",
      "  method = np.nanmean(col)\n"
     ]
    }
   ],
   "source": [
    "#fillna() REVER FUNÇÃO\n",
    "X = np.array([[1.0, 2.0, 3.0],\n",
    "                  [4.0, np.nan, 6.0],\n",
    "                  [7.0, 8.0, 9.0]])\n",
    "\n",
    "y = np.array([0, 1, 2])\n",
    "\n",
    "dataset = Dataset(X, y)\n",
    "print(dataset.fillna('mean').X)"
   ]
  },
  {
   "cell_type": "code",
   "execution_count": 15,
   "metadata": {},
   "outputs": [
    {
     "name": "stdout",
     "output_type": "stream",
     "text": [
      "[[1 2 3]]\n"
     ]
    }
   ],
   "source": [
    "#remove_from_index()\n",
    "X = np.array([[1, 2, 3], [4, 5, 6]])\n",
    "y = np.array([1, 2])\n",
    "features = np.array(['a', 'b', 'c'])\n",
    "label = 'y'\n",
    "dataset = Dataset(X, y, features, label)\n",
    "print(dataset.remove_from_index(1).X)"
   ]
  }
 ],
 "metadata": {
  "kernelspec": {
   "display_name": "base",
   "language": "python",
   "name": "python3"
  },
  "language_info": {
   "codemirror_mode": {
    "name": "ipython",
    "version": 3
   },
   "file_extension": ".py",
   "mimetype": "text/x-python",
   "name": "python",
   "nbconvert_exporter": "python",
   "pygments_lexer": "ipython3",
   "version": "3.11.4"
  },
  "orig_nbformat": 4
 },
 "nbformat": 4,
 "nbformat_minor": 2
}
